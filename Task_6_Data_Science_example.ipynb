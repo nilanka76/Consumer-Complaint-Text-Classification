{
  "nbformat": 4,
  "nbformat_minor": 0,
  "metadata": {
    "colab": {
      "provenance": [],
      "toc_visible": true
    },
    "kernelspec": {
      "name": "python3",
      "display_name": "Python 3"
    },
    "language_info": {
      "name": "python"
    }
  },
  "cells": [
    {
      "cell_type": "markdown",
      "source": [
        "# Task6: Data Science example"
      ],
      "metadata": {
        "id": "TyLaIdd06R2-"
      }
    },
    {
      "cell_type": "markdown",
      "source": [
        "Author: Nilanka Biswas"
      ],
      "metadata": {
        "id": "ACRLFaBO8S2y"
      }
    },
    {
      "cell_type": "markdown",
      "source": [
        "**Computation is time consuming and Google Colab resources are limited for free users.** for the reason I took about 10000 samples from the original Consumer complaint dataset dataset - (https://catalog.data.gov/dataset/consumer-complaint-database).\n",
        "\n",
        "Here, Highest Accuracy Achieved: 90% on LinearSVC."
      ],
      "metadata": {
        "id": "VOYhrNieBNjT"
      }
    },
    {
      "cell_type": "markdown",
      "source": [
        "Models chosen to compare -\n",
        "1. Linear Support Vector Machine (LinearSVM)\n",
        "2. Logistic Regression\n",
        "3. Random Forest\n",
        "4. Multinomial Naive Bayes\n",
        "5. K Neighbors Classifier\n",
        "6. AdaBoost Classifier\n",
        "7. Bagging Classifier\n"
      ],
      "metadata": {
        "id": "kAN3HkKFEGBR"
      }
    },
    {
      "cell_type": "markdown",
      "source": [
        "# Table of Contents\n",
        "\n",
        "  - [1. Explanatory Data Analysis and Feature Engineering](#scrollTo=rCRNaRGIAbNm)\n",
        "  - [2. Text Pre-processing](#scrollTo=Eo3TZHwpD-cx)\n",
        "  - [3. Selection of Multi Classification model](#scrollTo=0P-po_coHaab)\n",
        "  - [4. Comparison of model performance](#scrollTo=Pt-JH0tHILeS)\n",
        "  - [5. Model Evaluation](#scrollTo=HbFeSbWwJ8lz)\n",
        "  - [6. Model Deployment/Prediction](#scrollTo=r5omPcrCKb54)"
      ],
      "metadata": {
        "id": "VIaK_SpVkbs5"
      }
    },
    {
      "cell_type": "markdown",
      "source": [
        "#First Run"
      ],
      "metadata": {
        "id": "gyeOQ8gYNt02"
      }
    },
    {
      "cell_type": "markdown",
      "source": [
        "This whole section must be run at the first, all the time, before proceeding to further sections"
      ],
      "metadata": {
        "id": "JfNCi7ssNzcV"
      }
    },
    {
      "cell_type": "markdown",
      "source": [
        "## Imports"
      ],
      "metadata": {
        "id": "HR14ylP3M4_n"
      }
    },
    {
      "cell_type": "code",
      "execution_count": 93,
      "metadata": {
        "colab": {
          "base_uri": "https://localhost:8080/"
        },
        "id": "lGdZBmZGslXl",
        "outputId": "43d2140b-88fe-45c1-b11a-7b02515dffa4"
      },
      "outputs": [
        {
          "output_type": "stream",
          "name": "stderr",
          "text": [
            "[nltk_data] Downloading package punkt to /root/nltk_data...\n",
            "[nltk_data]   Package punkt is already up-to-date!\n",
            "[nltk_data] Downloading package stopwords to /root/nltk_data...\n",
            "[nltk_data]   Package stopwords is already up-to-date!\n",
            "[nltk_data] Downloading package wordnet to /root/nltk_data...\n",
            "[nltk_data]   Package wordnet is already up-to-date!\n"
          ]
        }
      ],
      "source": [
        "import pandas as pd\n",
        "import random\n",
        "import numpy as np\n",
        "import matplotlib.pyplot as plt\n",
        "import seaborn as sns\n",
        "import joblib\n",
        "\n",
        "#utils\n",
        "from sklearn.model_selection import train_test_split\n",
        "from sklearn.feature_extraction.text import TfidfVectorizer\n",
        "from sklearn.feature_extraction.text import TfidfTransformer\n",
        "from sklearn.model_selection import cross_val_score\n",
        "from sklearn.model_selection import GridSearchCV\n",
        "from sklearn.metrics import confusion_matrix\n",
        "from sklearn import metrics\n",
        "from sklearn.metrics import mean_absolute_error, explained_variance_score, accuracy_score, mean_squared_error, r2_score\n",
        "from sklearn.feature_selection import chi2\n",
        "import nltk\n",
        "from nltk.corpus import stopwords\n",
        "from nltk.stem import WordNetLemmatizer\n",
        "from nltk.tokenize import word_tokenize\n",
        "import string\n",
        "from typing import Union, List, Optional, Tuple, Dict\n",
        "import logging\n",
        "\n",
        "nltk.download('punkt')\n",
        "nltk.download('stopwords')\n",
        "nltk.download('wordnet')\n",
        "\n",
        "#models\n",
        "from sklearn.ensemble import RandomForestClassifier\n",
        "from sklearn.svm import LinearSVC\n",
        "from sklearn.naive_bayes import MultinomialNB\n",
        "from sklearn.linear_model import LogisticRegression\n",
        "from sklearn.neighbors import KNeighborsClassifier\n",
        "from sklearn.ensemble import AdaBoostClassifier\n",
        "from sklearn.ensemble import BaggingClassifier"
      ]
    },
    {
      "cell_type": "markdown",
      "source": [
        "## Utility functions"
      ],
      "metadata": {
        "id": "pP-JVUNblJng"
      }
    },
    {
      "cell_type": "code",
      "source": [
        "def clean_text(text: str, lemmatize: bool = True) -> str:\n",
        "    \"\"\"\n",
        "    Clean and preprocess text data for natural language processing.\n",
        "\n",
        "    Parameters:\n",
        "    text (str): The input text to be cleaned and preprocessed.\n",
        "    lemmatize (bool): Whether to perform lemmatization (default is True).\n",
        "\n",
        "    Returns:\n",
        "    str: The cleaned and preprocessed text.\n",
        "\n",
        "    This function performs the following text preprocessing steps:\n",
        "    1. Converts the text to lowercase.\n",
        "    2. Tokenizes the text into words.\n",
        "    3. Removes punctuation and special characters.\n",
        "    4. Removes numerical digits.\n",
        "    5. Removes common stop words.\n",
        "    6. (Optional) Lemmatizes words to their base form.\n",
        "\n",
        "    Example:\n",
        "    >>> sample_text = \"This is an example text with punctuations and numbers 123.\"\n",
        "    >>> cleaned_text = clean_text(sample_text)\n",
        "    >>> print(cleaned_text)\n",
        "    \"example text punctuation number\"\n",
        "\n",
        "    \"\"\"\n",
        "    # Step 1: Convert to lowercase\n",
        "    text = text.lower()\n",
        "\n",
        "    # Step 2: Tokenization\n",
        "    words = word_tokenize(text)\n",
        "\n",
        "    # Step 3: Remove punctuation and special characters\n",
        "    words = [word for word in words if word.isalnum()]\n",
        "\n",
        "    # Step 4: Remove numbers\n",
        "    words = [word for word in words if not word.isdigit()]\n",
        "\n",
        "    # Step 5: Remove stop words\n",
        "    stop_words = set(stopwords.words('english'))\n",
        "    words = [word for word in words if word not in stop_words]\n",
        "\n",
        "    # Step 6: (Optional) Lemmatization\n",
        "    if lemmatize:\n",
        "        lemmatizer = WordNetLemmatizer()\n",
        "        words = [lemmatizer.lemmatize(word) for word in words]\n",
        "\n",
        "    # Join the cleaned words back into a text\n",
        "    cleaned_text = ' '.join(words)\n",
        "\n",
        "    return cleaned_text"
      ],
      "metadata": {
        "id": "XGOp0oIPlBb2"
      },
      "execution_count": 3,
      "outputs": []
    },
    {
      "cell_type": "code",
      "source": [
        "def pre_process_texts(data: Union[str, pd.DataFrame, List[str]],\n",
        "                      vectorizer: TfidfVectorizer,\n",
        "                      lemmatize: bool = True) -> Union[Tuple[List[str], pd.Series], Tuple[pd.DataFrame, pd.Series]]:\n",
        "    \"\"\"\n",
        "    Preprocess text data for natural language processing.\n",
        "\n",
        "    Parameters:\n",
        "    data (Union[str, pd.DataFrame, List[str]]): The input data to be preprocessed.\n",
        "    vectorizer (TfidfVectorizer): The TF-IDF vectorizer used for feature extraction.\n",
        "    lemmatize (bool): Whether to perform lemmatization (default is True).\n",
        "\n",
        "    Returns:\n",
        "    Union[Tuple[List[str], pd.Series], Tuple[pd.DataFrame, pd.Series]]: Tuple containing preprocessed features and labels.\n",
        "\n",
        "    This function preprocesses text data based on its type:\n",
        "    - If data is a single string, it preprocesses and vectorizes it only for prediction purpose. So input Vectorizer must be already fitted.\n",
        "    - If data is a DataFrame, it preprocesses and vectorizes the 'Complaint' column, returning features and labels.\n",
        "    - If data is a list of strings, it preprocesses and vectorizes each string only for prediction purpose. In this case also input Vectorizer must be already fitted.\n",
        "\n",
        "    Example:\n",
        "    >>> data = \"This is an example text.\"\n",
        "    >>> vectorizer = TfidfVectorizer()\n",
        "    >>> features, _ = pre_process_texts(data, vectorizer)\n",
        "    >>> print(features)\n",
        "\n",
        "    \"\"\"\n",
        "    if isinstance(data, str):\n",
        "        data = clean_text(data, lemmatize = True)\n",
        "        features = vectorizer.transform([data])\n",
        "        return features\n",
        "\n",
        "    elif isinstance(data, pd.DataFrame):\n",
        "        data_copy = data.copy()\n",
        "        data_copy['Complaint'] = data_copy['Complaint'].apply(lambda x: clean_text(x, lemmatize = True))\n",
        "        features = vectorizer.fit_transform(data_copy['Complaint']).toarray()\n",
        "        labels = data_copy['encoded_label']\n",
        "        return features, labels,\n",
        "\n",
        "    elif isinstance(data, list):\n",
        "        features = []\n",
        "        for text in data:\n",
        "            text = clean_text(text, lemmatize = True)\n",
        "            text_features = vectorizer.transform([text]).toarray()\n",
        "            features.append(text_features)\n",
        "        return features\n"
      ],
      "metadata": {
        "id": "KwFIRoUzmH20"
      },
      "execution_count": 4,
      "outputs": []
    },
    {
      "cell_type": "code",
      "source": [
        "def clean_dataset(df: pd.DataFrame,\n",
        "                  categories_to_keep: Optional[List[str]] = None,\n",
        "                  sample_size: Optional[int] = None) -> Tuple[pd.DataFrame, dict]:\n",
        "    \"\"\"\n",
        "    Clean and preprocess a dataset for text classification.\n",
        "\n",
        "    Parameters:\n",
        "    df (pd.DataFrame): The input dataset containing 'Product' and 'Consumer complaint narrative' columns.\n",
        "    categories_to_keep (list, optional): List of specific categories to keep. Default is None.\n",
        "    sample_size (int, optional): Number of samples to randomly select from the dataset. Default is None.\n",
        "\n",
        "    Returns:\n",
        "    pd.DataFrame: Cleaned dataset with an added 'cate_id' column.\n",
        "    dict: Mapping of category names to category IDs.\n",
        "\n",
        "    This function performs the following steps:\n",
        "    1. Removes rows with missing 'Consumer complaint narrative'.\n",
        "    2. Renames columns to 'Product' and 'Complaint'.\n",
        "    3. Optionally samples the dataset if sample_size is provided.\n",
        "    4. Maps similar product categories to consolidated categories.\n",
        "    5. Generates a category mapping (category names to category IDs).\n",
        "\n",
        "    Example:\n",
        "    >>> cleaned_df, category_map = clean_dataset(input_df, categories_to_keep=['Credit reporting', 'Credit card'])\n",
        "    >>> print(cleaned_df.head())\n",
        "    >>> print(category_map)\n",
        "    \"\"\"\n",
        "    category_map = {}\n",
        "\n",
        "    # Step 1: Remove rows with missing narrative\n",
        "    if 'Product' not in df.columns or 'Consumer complaint narrative' not in df.columns:\n",
        "        raise ValueError(\"Input DataFrame must contain 'Product' and 'Consumer complaint narrative' columns.\")\n",
        "\n",
        "    df = df[['Product', 'Consumer complaint narrative']].copy()\n",
        "    df = df[pd.notnull(df['Consumer complaint narrative'])]\n",
        "    df.columns = ['Product', 'Complaint']\n",
        "\n",
        "    # Step 2: Optionally sample the dataset\n",
        "    if sample_size is not None:\n",
        "        df = df.sample(sample_size, random_state=1).copy()\n",
        "\n",
        "    # Step 3: Map similar product categories\n",
        "    df.replace({'Product':\n",
        "                {'Credit reporting, credit repair services, or other personal consumer reports': 'Credit reporting, repair, or other',\n",
        "                  'Credit card': 'Credit card or prepaid card',\n",
        "                  'Prepaid card': 'Credit card or prepaid card',\n",
        "                  'Payday loan': 'Payday loan, title loan, or personal loan',\n",
        "                  'Money transfer': 'Money transfer, virtual currency, or money service',\n",
        "                  'Virtual currency': 'Money transfer, virtual currency, or money service'}},\n",
        "                inplace=True)\n",
        "\n",
        "    label = 0\n",
        "\n",
        "    # Step 4: Filter categories and create a category mapping\n",
        "    if categories_to_keep is not None:\n",
        "        df = df[df['Product'].isin(categories_to_keep)]\n",
        "        for cate in categories_to_keep:\n",
        "            category_map[cate] = label\n",
        "            label += 1\n",
        "    else:\n",
        "        categories = pd.DataFrame(df.Product.unique()).values\n",
        "        for cate in categories:\n",
        "            category_map[cate[0]] = label\n",
        "            label += 1\n",
        "    df['encoded_label'] = df['Product'].map(category_map)\n",
        "\n",
        "    print(f\"Cleaned dataset shape: {df.shape}\")\n",
        "\n",
        "    return df, category_map"
      ],
      "metadata": {
        "id": "GiiIbK0PmYRn"
      },
      "execution_count": 29,
      "outputs": []
    },
    {
      "cell_type": "code",
      "source": [
        "# Util function for evaluation\n",
        "def evaluate_prediction(predicted_values: np.ndarray, actual_values: np.ndarray) -> Dict[str, float]:\n",
        "    \"\"\"\n",
        "    Evaluate the performance of a regression model using various metrics.\n",
        "\n",
        "    Parameters:\n",
        "    predicted_values (numpy.ndarray): Predicted values from the model.\n",
        "    actual_values (numpy.ndarray): Actual target values.\n",
        "\n",
        "    Returns:\n",
        "    dict: A dictionary containing evaluation metrics.\n",
        "\n",
        "    This function calculates the following metrics:\n",
        "    - Accuracy\n",
        "    - Mean Squared Error (MSE)\n",
        "    - Root Mean Squared Error (RMSE)\n",
        "    - Mean Absolute Error (MAE)\n",
        "    - R-squared (R2) Score\n",
        "    - Explained Variance Score\n",
        "\n",
        "    Raises:\n",
        "    ValueError: If the shapes of predicted_values and actual_values do not match.\n",
        "\n",
        "    Example:\n",
        "    >>> predicted = np.array([2.5, 3.0, 4.2, 5.1])\n",
        "    >>> actual = np.array([2.2, 3.1, 4.0, 5.3])\n",
        "    >>> metrics = evaluate_prediction(predicted, actual)\n",
        "    >>> print(metrics)\n",
        "    {'Accuracy': 0.25, 'MSE': 0.0275, 'RMSE': 0.1658319194074135, 'MAE': 0.15, 'R2': 0.9250000000000003, 'Explained Variance': 0.9575}\n",
        "    \"\"\"\n",
        "    if predicted_values.shape != actual_values.shape:\n",
        "        raise ValueError(\"Shape mismatch between predicted_values and actual_values\")\n",
        "\n",
        "    metrics = {}\n",
        "\n",
        "    # Accuracy\n",
        "    accuracy = accuracy_score(actual_values, predicted_values)\n",
        "    metrics['Accuracy'] = accuracy\n",
        "\n",
        "    # Mean Squared Error (MSE)\n",
        "    mse = mean_squared_error(actual_values, predicted_values)\n",
        "    metrics['MSE'] = mse\n",
        "\n",
        "    # Root Mean Squared Error (RMSE)\n",
        "    rmse = np.sqrt(mse)\n",
        "    metrics['RMSE'] = rmse\n",
        "\n",
        "    # Mean Absolute Error (MAE)\n",
        "    mae = mean_absolute_error(actual_values, predicted_values)\n",
        "    metrics['MAE'] = mae\n",
        "\n",
        "    # R-squared (R2) Score\n",
        "    r2 = r2_score(actual_values, predicted_values)\n",
        "    metrics['R2'] = r2\n",
        "\n",
        "    # Explained Variance Score\n",
        "    explained_variance = explained_variance_score(actual_values, predicted_values)\n",
        "    metrics['Explained Variance'] = explained_variance\n",
        "\n",
        "    return metrics"
      ],
      "metadata": {
        "id": "ots1NMyAlzTV"
      },
      "execution_count": 5,
      "outputs": []
    },
    {
      "cell_type": "code",
      "source": [
        "class CategoryLabelEncoder:\n",
        "    def __init__(self, category_map):\n",
        "        self.category_map = category_map\n",
        "        self.reverse_category_map = {v: k for k, v in category_map.items()}\n",
        "\n",
        "    def encode(self, category_names):\n",
        "        return [self.category_map[category] for category in category_names]\n",
        "\n",
        "    def decode(self, predicted_labels):\n",
        "        return [self.reverse_category_map[label] for label in predicted_labels]\n",
        "\n",
        "def predict_categories(text: str,\n",
        "                      model,\n",
        "                      vectorizer=None,\n",
        "                      label_encoder=None):\n",
        "    \"\"\"\n",
        "    Predict categories for Complaint text data using a trained model.\n",
        "\n",
        "    Parameters:\n",
        "    text (str): The input text to be predicted.\n",
        "    model: The trained classification model.\n",
        "    vectorizer: (optional) The vectorizer used for text preprocessing.\n",
        "    label_encoder: (optional) The label encoder used for category mapping.\n",
        "\n",
        "    Returns:\n",
        "    str: The predicted category.\n",
        "    \"\"\"\n",
        "    if not vectorizer or not label_encoder:\n",
        "        raise ValueError(\"Both vectorizer and label_encoder must be provided for prediction.\")\n",
        "\n",
        "    # Ensure text is a list\n",
        "    if not isinstance(text, str):\n",
        "        raise ValueError(\"Input must be a string\")\n",
        "\n",
        "    # Preprocess the text\n",
        "    pre_processed_text = pre_process_texts(text, vectorizer)\n",
        "\n",
        "    # Predict categories\n",
        "    y_pred = model.predict(pre_processed_text)\n",
        "\n",
        "    # Decode predicted categories\n",
        "    y_pred = label_encoder.decode(y_pred)\n",
        "\n",
        "    return y_pred\n"
      ],
      "metadata": {
        "id": "-WciLQXi7g-5"
      },
      "execution_count": 91,
      "outputs": []
    },
    {
      "cell_type": "markdown",
      "source": [
        "# Implementation"
      ],
      "metadata": {
        "id": "S4Nx1T3wEla9"
      }
    },
    {
      "cell_type": "markdown",
      "source": [
        "##1. Explanatory Data Analysis and Feature Engineering"
      ],
      "metadata": {
        "id": "rCRNaRGIAbNm"
      }
    },
    {
      "cell_type": "code",
      "source": [
        "df = pd.read_csv('/content/drive/MyDrive/Colab Notebooks/dataset/complaints/complaints.csv')\n",
        "df.shape"
      ],
      "metadata": {
        "colab": {
          "base_uri": "https://localhost:8080/"
        },
        "id": "UXLKnwg3DMZE",
        "outputId": "fadc88b0-b422-439d-c6da-d15ddd7641a8"
      },
      "execution_count": 7,
      "outputs": [
        {
          "output_type": "stream",
          "name": "stderr",
          "text": [
            "<ipython-input-7-d9659a6da6b6>:1: DtypeWarning: Columns (16) have mixed types. Specify dtype option on import or set low_memory=False.\n",
            "  df = pd.read_csv('/content/drive/MyDrive/Colab Notebooks/dataset/complaints/complaints.csv')\n"
          ]
        },
        {
          "output_type": "execute_result",
          "data": {
            "text/plain": [
              "(4091495, 18)"
            ]
          },
          "metadata": {},
          "execution_count": 7
        }
      ]
    },
    {
      "cell_type": "code",
      "source": [
        "df.head()"
      ],
      "metadata": {
        "colab": {
          "base_uri": "https://localhost:8080/",
          "height": 712
        },
        "id": "uTZ4lPQ8DrW3",
        "outputId": "fcf7a363-ed28-4c52-be50-1c8ab65b6f83"
      },
      "execution_count": 8,
      "outputs": [
        {
          "output_type": "execute_result",
          "data": {
            "text/plain": [
              "  Date received                                            Product  \\\n",
              "0    2023-08-24  Credit reporting, credit repair services, or o...   \n",
              "1    2023-08-25  Credit reporting or other personal consumer re...   \n",
              "2    2023-07-13                        Checking or savings account   \n",
              "3    2023-08-25  Credit reporting or other personal consumer re...   \n",
              "4    2023-09-13  Credit reporting or other personal consumer re...   \n",
              "\n",
              "        Sub-product                                              Issue  \\\n",
              "0  Credit reporting  Problem with a credit reporting company's inve...   \n",
              "1  Credit reporting                        Improper use of your report   \n",
              "2  Checking account             Problem caused by your funds being low   \n",
              "3  Credit reporting                        Improper use of your report   \n",
              "4  Credit reporting  Problem with a company's investigation into an...   \n",
              "\n",
              "                                           Sub-issue  \\\n",
              "0  Was not notified of investigation status or re...   \n",
              "1      Reporting company used your report improperly   \n",
              "2                      Overdrafts and overdraft fees   \n",
              "3      Reporting company used your report improperly   \n",
              "4  Their investigation did not fix an error on yo...   \n",
              "\n",
              "                        Consumer complaint narrative  \\\n",
              "0                                                NaN   \n",
              "1                                                NaN   \n",
              "2  Citibank allowed debit card transactions to ov...   \n",
              "3                                                NaN   \n",
              "4                                                NaN   \n",
              "\n",
              "                             Company public response  \\\n",
              "0                                                NaN   \n",
              "1                                                NaN   \n",
              "2  Company has responded to the consumer and the ...   \n",
              "3                                                NaN   \n",
              "4                                                NaN   \n",
              "\n",
              "                               Company State ZIP code           Tags  \\\n",
              "0  Experian Information Solutions Inc.    NJ    07024            NaN   \n",
              "1         SANTANDER HOLDINGS USA, INC.    FL    33972            NaN   \n",
              "2                       CITIBANK, N.A.    TX    XXXXX            NaN   \n",
              "3                        EQUIFAX, INC.    FL    33884  Servicemember   \n",
              "4         SANTANDER HOLDINGS USA, INC.    TX    77521            NaN   \n",
              "\n",
              "  Consumer consent provided? Submitted via Date sent to company  \\\n",
              "0                      Other           Web           2023-08-24   \n",
              "1                        NaN           Web           2023-08-25   \n",
              "2           Consent provided           Web           2023-07-13   \n",
              "3                        NaN           Web           2023-08-25   \n",
              "4                        NaN           Web           2023-09-13   \n",
              "\n",
              "      Company response to consumer Timely response? Consumer disputed?  \\\n",
              "0                      In progress              Yes                NaN   \n",
              "1          Closed with explanation              Yes                NaN   \n",
              "2          Closed with explanation              Yes                NaN   \n",
              "3  Closed with non-monetary relief              Yes                NaN   \n",
              "4          Closed with explanation              Yes                NaN   \n",
              "\n",
              "   Complaint ID  \n",
              "0       7452639  \n",
              "1       7512160  \n",
              "2       7244354  \n",
              "3       7453721  \n",
              "4       7542838  "
            ],
            "text/html": [
              "\n",
              "  <div id=\"df-1304edc2-d0b2-417a-9e02-0f78fadad690\" class=\"colab-df-container\">\n",
              "    <div>\n",
              "<style scoped>\n",
              "    .dataframe tbody tr th:only-of-type {\n",
              "        vertical-align: middle;\n",
              "    }\n",
              "\n",
              "    .dataframe tbody tr th {\n",
              "        vertical-align: top;\n",
              "    }\n",
              "\n",
              "    .dataframe thead th {\n",
              "        text-align: right;\n",
              "    }\n",
              "</style>\n",
              "<table border=\"1\" class=\"dataframe\">\n",
              "  <thead>\n",
              "    <tr style=\"text-align: right;\">\n",
              "      <th></th>\n",
              "      <th>Date received</th>\n",
              "      <th>Product</th>\n",
              "      <th>Sub-product</th>\n",
              "      <th>Issue</th>\n",
              "      <th>Sub-issue</th>\n",
              "      <th>Consumer complaint narrative</th>\n",
              "      <th>Company public response</th>\n",
              "      <th>Company</th>\n",
              "      <th>State</th>\n",
              "      <th>ZIP code</th>\n",
              "      <th>Tags</th>\n",
              "      <th>Consumer consent provided?</th>\n",
              "      <th>Submitted via</th>\n",
              "      <th>Date sent to company</th>\n",
              "      <th>Company response to consumer</th>\n",
              "      <th>Timely response?</th>\n",
              "      <th>Consumer disputed?</th>\n",
              "      <th>Complaint ID</th>\n",
              "    </tr>\n",
              "  </thead>\n",
              "  <tbody>\n",
              "    <tr>\n",
              "      <th>0</th>\n",
              "      <td>2023-08-24</td>\n",
              "      <td>Credit reporting, credit repair services, or o...</td>\n",
              "      <td>Credit reporting</td>\n",
              "      <td>Problem with a credit reporting company's inve...</td>\n",
              "      <td>Was not notified of investigation status or re...</td>\n",
              "      <td>NaN</td>\n",
              "      <td>NaN</td>\n",
              "      <td>Experian Information Solutions Inc.</td>\n",
              "      <td>NJ</td>\n",
              "      <td>07024</td>\n",
              "      <td>NaN</td>\n",
              "      <td>Other</td>\n",
              "      <td>Web</td>\n",
              "      <td>2023-08-24</td>\n",
              "      <td>In progress</td>\n",
              "      <td>Yes</td>\n",
              "      <td>NaN</td>\n",
              "      <td>7452639</td>\n",
              "    </tr>\n",
              "    <tr>\n",
              "      <th>1</th>\n",
              "      <td>2023-08-25</td>\n",
              "      <td>Credit reporting or other personal consumer re...</td>\n",
              "      <td>Credit reporting</td>\n",
              "      <td>Improper use of your report</td>\n",
              "      <td>Reporting company used your report improperly</td>\n",
              "      <td>NaN</td>\n",
              "      <td>NaN</td>\n",
              "      <td>SANTANDER HOLDINGS USA, INC.</td>\n",
              "      <td>FL</td>\n",
              "      <td>33972</td>\n",
              "      <td>NaN</td>\n",
              "      <td>NaN</td>\n",
              "      <td>Web</td>\n",
              "      <td>2023-08-25</td>\n",
              "      <td>Closed with explanation</td>\n",
              "      <td>Yes</td>\n",
              "      <td>NaN</td>\n",
              "      <td>7512160</td>\n",
              "    </tr>\n",
              "    <tr>\n",
              "      <th>2</th>\n",
              "      <td>2023-07-13</td>\n",
              "      <td>Checking or savings account</td>\n",
              "      <td>Checking account</td>\n",
              "      <td>Problem caused by your funds being low</td>\n",
              "      <td>Overdrafts and overdraft fees</td>\n",
              "      <td>Citibank allowed debit card transactions to ov...</td>\n",
              "      <td>Company has responded to the consumer and the ...</td>\n",
              "      <td>CITIBANK, N.A.</td>\n",
              "      <td>TX</td>\n",
              "      <td>XXXXX</td>\n",
              "      <td>NaN</td>\n",
              "      <td>Consent provided</td>\n",
              "      <td>Web</td>\n",
              "      <td>2023-07-13</td>\n",
              "      <td>Closed with explanation</td>\n",
              "      <td>Yes</td>\n",
              "      <td>NaN</td>\n",
              "      <td>7244354</td>\n",
              "    </tr>\n",
              "    <tr>\n",
              "      <th>3</th>\n",
              "      <td>2023-08-25</td>\n",
              "      <td>Credit reporting or other personal consumer re...</td>\n",
              "      <td>Credit reporting</td>\n",
              "      <td>Improper use of your report</td>\n",
              "      <td>Reporting company used your report improperly</td>\n",
              "      <td>NaN</td>\n",
              "      <td>NaN</td>\n",
              "      <td>EQUIFAX, INC.</td>\n",
              "      <td>FL</td>\n",
              "      <td>33884</td>\n",
              "      <td>Servicemember</td>\n",
              "      <td>NaN</td>\n",
              "      <td>Web</td>\n",
              "      <td>2023-08-25</td>\n",
              "      <td>Closed with non-monetary relief</td>\n",
              "      <td>Yes</td>\n",
              "      <td>NaN</td>\n",
              "      <td>7453721</td>\n",
              "    </tr>\n",
              "    <tr>\n",
              "      <th>4</th>\n",
              "      <td>2023-09-13</td>\n",
              "      <td>Credit reporting or other personal consumer re...</td>\n",
              "      <td>Credit reporting</td>\n",
              "      <td>Problem with a company's investigation into an...</td>\n",
              "      <td>Their investigation did not fix an error on yo...</td>\n",
              "      <td>NaN</td>\n",
              "      <td>NaN</td>\n",
              "      <td>SANTANDER HOLDINGS USA, INC.</td>\n",
              "      <td>TX</td>\n",
              "      <td>77521</td>\n",
              "      <td>NaN</td>\n",
              "      <td>NaN</td>\n",
              "      <td>Web</td>\n",
              "      <td>2023-09-13</td>\n",
              "      <td>Closed with explanation</td>\n",
              "      <td>Yes</td>\n",
              "      <td>NaN</td>\n",
              "      <td>7542838</td>\n",
              "    </tr>\n",
              "  </tbody>\n",
              "</table>\n",
              "</div>\n",
              "    <div class=\"colab-df-buttons\">\n",
              "\n",
              "  <div class=\"colab-df-container\">\n",
              "    <button class=\"colab-df-convert\" onclick=\"convertToInteractive('df-1304edc2-d0b2-417a-9e02-0f78fadad690')\"\n",
              "            title=\"Convert this dataframe to an interactive table.\"\n",
              "            style=\"display:none;\">\n",
              "\n",
              "  <svg xmlns=\"http://www.w3.org/2000/svg\" height=\"24px\" viewBox=\"0 -960 960 960\">\n",
              "    <path d=\"M120-120v-720h720v720H120Zm60-500h600v-160H180v160Zm220 220h160v-160H400v160Zm0 220h160v-160H400v160ZM180-400h160v-160H180v160Zm440 0h160v-160H620v160ZM180-180h160v-160H180v160Zm440 0h160v-160H620v160Z\"/>\n",
              "  </svg>\n",
              "    </button>\n",
              "\n",
              "  <style>\n",
              "    .colab-df-container {\n",
              "      display:flex;\n",
              "      gap: 12px;\n",
              "    }\n",
              "\n",
              "    .colab-df-convert {\n",
              "      background-color: #E8F0FE;\n",
              "      border: none;\n",
              "      border-radius: 50%;\n",
              "      cursor: pointer;\n",
              "      display: none;\n",
              "      fill: #1967D2;\n",
              "      height: 32px;\n",
              "      padding: 0 0 0 0;\n",
              "      width: 32px;\n",
              "    }\n",
              "\n",
              "    .colab-df-convert:hover {\n",
              "      background-color: #E2EBFA;\n",
              "      box-shadow: 0px 1px 2px rgba(60, 64, 67, 0.3), 0px 1px 3px 1px rgba(60, 64, 67, 0.15);\n",
              "      fill: #174EA6;\n",
              "    }\n",
              "\n",
              "    .colab-df-buttons div {\n",
              "      margin-bottom: 4px;\n",
              "    }\n",
              "\n",
              "    [theme=dark] .colab-df-convert {\n",
              "      background-color: #3B4455;\n",
              "      fill: #D2E3FC;\n",
              "    }\n",
              "\n",
              "    [theme=dark] .colab-df-convert:hover {\n",
              "      background-color: #434B5C;\n",
              "      box-shadow: 0px 1px 3px 1px rgba(0, 0, 0, 0.15);\n",
              "      filter: drop-shadow(0px 1px 2px rgba(0, 0, 0, 0.3));\n",
              "      fill: #FFFFFF;\n",
              "    }\n",
              "  </style>\n",
              "\n",
              "    <script>\n",
              "      const buttonEl =\n",
              "        document.querySelector('#df-1304edc2-d0b2-417a-9e02-0f78fadad690 button.colab-df-convert');\n",
              "      buttonEl.style.display =\n",
              "        google.colab.kernel.accessAllowed ? 'block' : 'none';\n",
              "\n",
              "      async function convertToInteractive(key) {\n",
              "        const element = document.querySelector('#df-1304edc2-d0b2-417a-9e02-0f78fadad690');\n",
              "        const dataTable =\n",
              "          await google.colab.kernel.invokeFunction('convertToInteractive',\n",
              "                                                    [key], {});\n",
              "        if (!dataTable) return;\n",
              "\n",
              "        const docLinkHtml = 'Like what you see? Visit the ' +\n",
              "          '<a target=\"_blank\" href=https://colab.research.google.com/notebooks/data_table.ipynb>data table notebook</a>'\n",
              "          + ' to learn more about interactive tables.';\n",
              "        element.innerHTML = '';\n",
              "        dataTable['output_type'] = 'display_data';\n",
              "        await google.colab.output.renderOutput(dataTable, element);\n",
              "        const docLink = document.createElement('div');\n",
              "        docLink.innerHTML = docLinkHtml;\n",
              "        element.appendChild(docLink);\n",
              "      }\n",
              "    </script>\n",
              "  </div>\n",
              "\n",
              "\n",
              "<div id=\"df-4729e5ca-47a3-46d1-bf6c-0e6c1d7bea4d\">\n",
              "  <button class=\"colab-df-quickchart\" onclick=\"quickchart('df-4729e5ca-47a3-46d1-bf6c-0e6c1d7bea4d')\"\n",
              "            title=\"Suggest charts.\"\n",
              "            style=\"display:none;\">\n",
              "\n",
              "<svg xmlns=\"http://www.w3.org/2000/svg\" height=\"24px\"viewBox=\"0 0 24 24\"\n",
              "     width=\"24px\">\n",
              "    <g>\n",
              "        <path d=\"M19 3H5c-1.1 0-2 .9-2 2v14c0 1.1.9 2 2 2h14c1.1 0 2-.9 2-2V5c0-1.1-.9-2-2-2zM9 17H7v-7h2v7zm4 0h-2V7h2v10zm4 0h-2v-4h2v4z\"/>\n",
              "    </g>\n",
              "</svg>\n",
              "  </button>\n",
              "\n",
              "<style>\n",
              "  .colab-df-quickchart {\n",
              "      --bg-color: #E8F0FE;\n",
              "      --fill-color: #1967D2;\n",
              "      --hover-bg-color: #E2EBFA;\n",
              "      --hover-fill-color: #174EA6;\n",
              "      --disabled-fill-color: #AAA;\n",
              "      --disabled-bg-color: #DDD;\n",
              "  }\n",
              "\n",
              "  [theme=dark] .colab-df-quickchart {\n",
              "      --bg-color: #3B4455;\n",
              "      --fill-color: #D2E3FC;\n",
              "      --hover-bg-color: #434B5C;\n",
              "      --hover-fill-color: #FFFFFF;\n",
              "      --disabled-bg-color: #3B4455;\n",
              "      --disabled-fill-color: #666;\n",
              "  }\n",
              "\n",
              "  .colab-df-quickchart {\n",
              "    background-color: var(--bg-color);\n",
              "    border: none;\n",
              "    border-radius: 50%;\n",
              "    cursor: pointer;\n",
              "    display: none;\n",
              "    fill: var(--fill-color);\n",
              "    height: 32px;\n",
              "    padding: 0;\n",
              "    width: 32px;\n",
              "  }\n",
              "\n",
              "  .colab-df-quickchart:hover {\n",
              "    background-color: var(--hover-bg-color);\n",
              "    box-shadow: 0 1px 2px rgba(60, 64, 67, 0.3), 0 1px 3px 1px rgba(60, 64, 67, 0.15);\n",
              "    fill: var(--button-hover-fill-color);\n",
              "  }\n",
              "\n",
              "  .colab-df-quickchart-complete:disabled,\n",
              "  .colab-df-quickchart-complete:disabled:hover {\n",
              "    background-color: var(--disabled-bg-color);\n",
              "    fill: var(--disabled-fill-color);\n",
              "    box-shadow: none;\n",
              "  }\n",
              "\n",
              "  .colab-df-spinner {\n",
              "    border: 2px solid var(--fill-color);\n",
              "    border-color: transparent;\n",
              "    border-bottom-color: var(--fill-color);\n",
              "    animation:\n",
              "      spin 1s steps(1) infinite;\n",
              "  }\n",
              "\n",
              "  @keyframes spin {\n",
              "    0% {\n",
              "      border-color: transparent;\n",
              "      border-bottom-color: var(--fill-color);\n",
              "      border-left-color: var(--fill-color);\n",
              "    }\n",
              "    20% {\n",
              "      border-color: transparent;\n",
              "      border-left-color: var(--fill-color);\n",
              "      border-top-color: var(--fill-color);\n",
              "    }\n",
              "    30% {\n",
              "      border-color: transparent;\n",
              "      border-left-color: var(--fill-color);\n",
              "      border-top-color: var(--fill-color);\n",
              "      border-right-color: var(--fill-color);\n",
              "    }\n",
              "    40% {\n",
              "      border-color: transparent;\n",
              "      border-right-color: var(--fill-color);\n",
              "      border-top-color: var(--fill-color);\n",
              "    }\n",
              "    60% {\n",
              "      border-color: transparent;\n",
              "      border-right-color: var(--fill-color);\n",
              "    }\n",
              "    80% {\n",
              "      border-color: transparent;\n",
              "      border-right-color: var(--fill-color);\n",
              "      border-bottom-color: var(--fill-color);\n",
              "    }\n",
              "    90% {\n",
              "      border-color: transparent;\n",
              "      border-bottom-color: var(--fill-color);\n",
              "    }\n",
              "  }\n",
              "</style>\n",
              "\n",
              "  <script>\n",
              "    async function quickchart(key) {\n",
              "      const quickchartButtonEl =\n",
              "        document.querySelector('#' + key + ' button');\n",
              "      quickchartButtonEl.disabled = true;  // To prevent multiple clicks.\n",
              "      quickchartButtonEl.classList.add('colab-df-spinner');\n",
              "      try {\n",
              "        const charts = await google.colab.kernel.invokeFunction(\n",
              "            'suggestCharts', [key], {});\n",
              "      } catch (error) {\n",
              "        console.error('Error during call to suggestCharts:', error);\n",
              "      }\n",
              "      quickchartButtonEl.classList.remove('colab-df-spinner');\n",
              "      quickchartButtonEl.classList.add('colab-df-quickchart-complete');\n",
              "    }\n",
              "    (() => {\n",
              "      let quickchartButtonEl =\n",
              "        document.querySelector('#df-4729e5ca-47a3-46d1-bf6c-0e6c1d7bea4d button');\n",
              "      quickchartButtonEl.style.display =\n",
              "        google.colab.kernel.accessAllowed ? 'block' : 'none';\n",
              "    })();\n",
              "  </script>\n",
              "</div>\n",
              "    </div>\n",
              "  </div>\n"
            ]
          },
          "metadata": {},
          "execution_count": 8
        }
      ]
    },
    {
      "cell_type": "code",
      "source": [
        "df.columns"
      ],
      "metadata": {
        "colab": {
          "base_uri": "https://localhost:8080/"
        },
        "id": "-avifARKDvS0",
        "outputId": "1f4b93c4-39d1-4c07-f76c-e6569fb5049d"
      },
      "execution_count": 9,
      "outputs": [
        {
          "output_type": "execute_result",
          "data": {
            "text/plain": [
              "Index(['Date received', 'Product', 'Sub-product', 'Issue', 'Sub-issue',\n",
              "       'Consumer complaint narrative', 'Company public response', 'Company',\n",
              "       'State', 'ZIP code', 'Tags', 'Consumer consent provided?',\n",
              "       'Submitted via', 'Date sent to company', 'Company response to consumer',\n",
              "       'Timely response?', 'Consumer disputed?', 'Complaint ID'],\n",
              "      dtype='object')"
            ]
          },
          "metadata": {},
          "execution_count": 9
        }
      ]
    },
    {
      "cell_type": "code",
      "source": [
        "df.isnull().sum()\n",
        "# Total Rows 4091495"
      ],
      "metadata": {
        "colab": {
          "base_uri": "https://localhost:8080/"
        },
        "id": "Apt7MPjvGTpm",
        "outputId": "ae5a8777-9e9a-4eda-b5ea-e6646259fec1"
      },
      "execution_count": 10,
      "outputs": [
        {
          "output_type": "execute_result",
          "data": {
            "text/plain": [
              "Date received                         0\n",
              "Product                               0\n",
              "Sub-product                      235291\n",
              "Issue                                 0\n",
              "Sub-issue                        716727\n",
              "Consumer complaint narrative    2608933\n",
              "Company public response         2196051\n",
              "Company                               0\n",
              "State                             43234\n",
              "ZIP code                          30213\n",
              "Tags                            3664664\n",
              "Consumer consent provided?       901658\n",
              "Submitted via                         0\n",
              "Date sent to company                  0\n",
              "Company response to consumer          5\n",
              "Timely response?                      0\n",
              "Consumer disputed?              3323137\n",
              "Complaint ID                          0\n",
              "dtype: int64"
            ]
          },
          "metadata": {},
          "execution_count": 10
        }
      ]
    },
    {
      "cell_type": "code",
      "source": [
        "og_df_len = len(df)"
      ],
      "metadata": {
        "id": "KLD9W9Ttd6l_"
      },
      "execution_count": 11,
      "outputs": []
    },
    {
      "cell_type": "markdown",
      "source": [
        "To Perform a Text Classification on this dataset we only need 'Product' and 'Consumer complaint narrative' columns. So removed the other columns."
      ],
      "metadata": {
        "id": "MU6pZgurExBC"
      }
    },
    {
      "cell_type": "code",
      "source": [
        "df = df[['Product', 'Consumer complaint narrative']].copy()"
      ],
      "metadata": {
        "id": "cvRp8SrbGf43"
      },
      "execution_count": 12,
      "outputs": []
    },
    {
      "cell_type": "code",
      "source": [
        "# Removed missing values\n",
        "df = df[pd.notnull(df['Consumer complaint narrative'])]\n",
        "\n",
        "# Renaming second column\n",
        "df.columns = ['Product', 'Complaint']\n",
        "\n",
        "df.shape"
      ],
      "metadata": {
        "colab": {
          "base_uri": "https://localhost:8080/"
        },
        "id": "hrWLtSAIG41R",
        "outputId": "1936806d-3cb1-4ea2-bb38-bb00f665a612"
      },
      "execution_count": 13,
      "outputs": [
        {
          "output_type": "execute_result",
          "data": {
            "text/plain": [
              "(1482562, 2)"
            ]
          },
          "metadata": {},
          "execution_count": 13
        }
      ]
    },
    {
      "cell_type": "code",
      "source": [
        "df.head()"
      ],
      "metadata": {
        "id": "PJwJYPh2MO96",
        "colab": {
          "base_uri": "https://localhost:8080/",
          "height": 206
        },
        "outputId": "3579ee15-5253-4560-965e-9c208d2c684d"
      },
      "execution_count": 14,
      "outputs": [
        {
          "output_type": "execute_result",
          "data": {
            "text/plain": [
              "                                              Product  \\\n",
              "2                         Checking or savings account   \n",
              "6   Credit reporting, credit repair services, or o...   \n",
              "37  Credit reporting, credit repair services, or o...   \n",
              "38  Credit reporting, credit repair services, or o...   \n",
              "40  Credit reporting, credit repair services, or o...   \n",
              "\n",
              "                                            Complaint  \n",
              "2   Citibank allowed debit card transactions to ov...  \n",
              "6   I submitted a letter to the XXXX Credit Bureau...  \n",
              "37  In accordance with the Fair Credit Reporting a...  \n",
              "38  On XX/XX/, 2023, XXXX XXXX admitted liability ...  \n",
              "40  XX/XX/XXXX ] [ XXXX XXXX XXXX ] [ XXXX XXXX XX...  "
            ],
            "text/html": [
              "\n",
              "  <div id=\"df-a87f19e0-0b1b-481f-a4c0-ade6f62aec5c\" class=\"colab-df-container\">\n",
              "    <div>\n",
              "<style scoped>\n",
              "    .dataframe tbody tr th:only-of-type {\n",
              "        vertical-align: middle;\n",
              "    }\n",
              "\n",
              "    .dataframe tbody tr th {\n",
              "        vertical-align: top;\n",
              "    }\n",
              "\n",
              "    .dataframe thead th {\n",
              "        text-align: right;\n",
              "    }\n",
              "</style>\n",
              "<table border=\"1\" class=\"dataframe\">\n",
              "  <thead>\n",
              "    <tr style=\"text-align: right;\">\n",
              "      <th></th>\n",
              "      <th>Product</th>\n",
              "      <th>Complaint</th>\n",
              "    </tr>\n",
              "  </thead>\n",
              "  <tbody>\n",
              "    <tr>\n",
              "      <th>2</th>\n",
              "      <td>Checking or savings account</td>\n",
              "      <td>Citibank allowed debit card transactions to ov...</td>\n",
              "    </tr>\n",
              "    <tr>\n",
              "      <th>6</th>\n",
              "      <td>Credit reporting, credit repair services, or o...</td>\n",
              "      <td>I submitted a letter to the XXXX Credit Bureau...</td>\n",
              "    </tr>\n",
              "    <tr>\n",
              "      <th>37</th>\n",
              "      <td>Credit reporting, credit repair services, or o...</td>\n",
              "      <td>In accordance with the Fair Credit Reporting a...</td>\n",
              "    </tr>\n",
              "    <tr>\n",
              "      <th>38</th>\n",
              "      <td>Credit reporting, credit repair services, or o...</td>\n",
              "      <td>On XX/XX/, 2023, XXXX XXXX admitted liability ...</td>\n",
              "    </tr>\n",
              "    <tr>\n",
              "      <th>40</th>\n",
              "      <td>Credit reporting, credit repair services, or o...</td>\n",
              "      <td>XX/XX/XXXX ] [ XXXX XXXX XXXX ] [ XXXX XXXX XX...</td>\n",
              "    </tr>\n",
              "  </tbody>\n",
              "</table>\n",
              "</div>\n",
              "    <div class=\"colab-df-buttons\">\n",
              "\n",
              "  <div class=\"colab-df-container\">\n",
              "    <button class=\"colab-df-convert\" onclick=\"convertToInteractive('df-a87f19e0-0b1b-481f-a4c0-ade6f62aec5c')\"\n",
              "            title=\"Convert this dataframe to an interactive table.\"\n",
              "            style=\"display:none;\">\n",
              "\n",
              "  <svg xmlns=\"http://www.w3.org/2000/svg\" height=\"24px\" viewBox=\"0 -960 960 960\">\n",
              "    <path d=\"M120-120v-720h720v720H120Zm60-500h600v-160H180v160Zm220 220h160v-160H400v160Zm0 220h160v-160H400v160ZM180-400h160v-160H180v160Zm440 0h160v-160H620v160ZM180-180h160v-160H180v160Zm440 0h160v-160H620v160Z\"/>\n",
              "  </svg>\n",
              "    </button>\n",
              "\n",
              "  <style>\n",
              "    .colab-df-container {\n",
              "      display:flex;\n",
              "      gap: 12px;\n",
              "    }\n",
              "\n",
              "    .colab-df-convert {\n",
              "      background-color: #E8F0FE;\n",
              "      border: none;\n",
              "      border-radius: 50%;\n",
              "      cursor: pointer;\n",
              "      display: none;\n",
              "      fill: #1967D2;\n",
              "      height: 32px;\n",
              "      padding: 0 0 0 0;\n",
              "      width: 32px;\n",
              "    }\n",
              "\n",
              "    .colab-df-convert:hover {\n",
              "      background-color: #E2EBFA;\n",
              "      box-shadow: 0px 1px 2px rgba(60, 64, 67, 0.3), 0px 1px 3px 1px rgba(60, 64, 67, 0.15);\n",
              "      fill: #174EA6;\n",
              "    }\n",
              "\n",
              "    .colab-df-buttons div {\n",
              "      margin-bottom: 4px;\n",
              "    }\n",
              "\n",
              "    [theme=dark] .colab-df-convert {\n",
              "      background-color: #3B4455;\n",
              "      fill: #D2E3FC;\n",
              "    }\n",
              "\n",
              "    [theme=dark] .colab-df-convert:hover {\n",
              "      background-color: #434B5C;\n",
              "      box-shadow: 0px 1px 3px 1px rgba(0, 0, 0, 0.15);\n",
              "      filter: drop-shadow(0px 1px 2px rgba(0, 0, 0, 0.3));\n",
              "      fill: #FFFFFF;\n",
              "    }\n",
              "  </style>\n",
              "\n",
              "    <script>\n",
              "      const buttonEl =\n",
              "        document.querySelector('#df-a87f19e0-0b1b-481f-a4c0-ade6f62aec5c button.colab-df-convert');\n",
              "      buttonEl.style.display =\n",
              "        google.colab.kernel.accessAllowed ? 'block' : 'none';\n",
              "\n",
              "      async function convertToInteractive(key) {\n",
              "        const element = document.querySelector('#df-a87f19e0-0b1b-481f-a4c0-ade6f62aec5c');\n",
              "        const dataTable =\n",
              "          await google.colab.kernel.invokeFunction('convertToInteractive',\n",
              "                                                    [key], {});\n",
              "        if (!dataTable) return;\n",
              "\n",
              "        const docLinkHtml = 'Like what you see? Visit the ' +\n",
              "          '<a target=\"_blank\" href=https://colab.research.google.com/notebooks/data_table.ipynb>data table notebook</a>'\n",
              "          + ' to learn more about interactive tables.';\n",
              "        element.innerHTML = '';\n",
              "        dataTable['output_type'] = 'display_data';\n",
              "        await google.colab.output.renderOutput(dataTable, element);\n",
              "        const docLink = document.createElement('div');\n",
              "        docLink.innerHTML = docLinkHtml;\n",
              "        element.appendChild(docLink);\n",
              "      }\n",
              "    </script>\n",
              "  </div>\n",
              "\n",
              "\n",
              "<div id=\"df-2c93cc00-0c01-4301-b588-d846758bc728\">\n",
              "  <button class=\"colab-df-quickchart\" onclick=\"quickchart('df-2c93cc00-0c01-4301-b588-d846758bc728')\"\n",
              "            title=\"Suggest charts.\"\n",
              "            style=\"display:none;\">\n",
              "\n",
              "<svg xmlns=\"http://www.w3.org/2000/svg\" height=\"24px\"viewBox=\"0 0 24 24\"\n",
              "     width=\"24px\">\n",
              "    <g>\n",
              "        <path d=\"M19 3H5c-1.1 0-2 .9-2 2v14c0 1.1.9 2 2 2h14c1.1 0 2-.9 2-2V5c0-1.1-.9-2-2-2zM9 17H7v-7h2v7zm4 0h-2V7h2v10zm4 0h-2v-4h2v4z\"/>\n",
              "    </g>\n",
              "</svg>\n",
              "  </button>\n",
              "\n",
              "<style>\n",
              "  .colab-df-quickchart {\n",
              "      --bg-color: #E8F0FE;\n",
              "      --fill-color: #1967D2;\n",
              "      --hover-bg-color: #E2EBFA;\n",
              "      --hover-fill-color: #174EA6;\n",
              "      --disabled-fill-color: #AAA;\n",
              "      --disabled-bg-color: #DDD;\n",
              "  }\n",
              "\n",
              "  [theme=dark] .colab-df-quickchart {\n",
              "      --bg-color: #3B4455;\n",
              "      --fill-color: #D2E3FC;\n",
              "      --hover-bg-color: #434B5C;\n",
              "      --hover-fill-color: #FFFFFF;\n",
              "      --disabled-bg-color: #3B4455;\n",
              "      --disabled-fill-color: #666;\n",
              "  }\n",
              "\n",
              "  .colab-df-quickchart {\n",
              "    background-color: var(--bg-color);\n",
              "    border: none;\n",
              "    border-radius: 50%;\n",
              "    cursor: pointer;\n",
              "    display: none;\n",
              "    fill: var(--fill-color);\n",
              "    height: 32px;\n",
              "    padding: 0;\n",
              "    width: 32px;\n",
              "  }\n",
              "\n",
              "  .colab-df-quickchart:hover {\n",
              "    background-color: var(--hover-bg-color);\n",
              "    box-shadow: 0 1px 2px rgba(60, 64, 67, 0.3), 0 1px 3px 1px rgba(60, 64, 67, 0.15);\n",
              "    fill: var(--button-hover-fill-color);\n",
              "  }\n",
              "\n",
              "  .colab-df-quickchart-complete:disabled,\n",
              "  .colab-df-quickchart-complete:disabled:hover {\n",
              "    background-color: var(--disabled-bg-color);\n",
              "    fill: var(--disabled-fill-color);\n",
              "    box-shadow: none;\n",
              "  }\n",
              "\n",
              "  .colab-df-spinner {\n",
              "    border: 2px solid var(--fill-color);\n",
              "    border-color: transparent;\n",
              "    border-bottom-color: var(--fill-color);\n",
              "    animation:\n",
              "      spin 1s steps(1) infinite;\n",
              "  }\n",
              "\n",
              "  @keyframes spin {\n",
              "    0% {\n",
              "      border-color: transparent;\n",
              "      border-bottom-color: var(--fill-color);\n",
              "      border-left-color: var(--fill-color);\n",
              "    }\n",
              "    20% {\n",
              "      border-color: transparent;\n",
              "      border-left-color: var(--fill-color);\n",
              "      border-top-color: var(--fill-color);\n",
              "    }\n",
              "    30% {\n",
              "      border-color: transparent;\n",
              "      border-left-color: var(--fill-color);\n",
              "      border-top-color: var(--fill-color);\n",
              "      border-right-color: var(--fill-color);\n",
              "    }\n",
              "    40% {\n",
              "      border-color: transparent;\n",
              "      border-right-color: var(--fill-color);\n",
              "      border-top-color: var(--fill-color);\n",
              "    }\n",
              "    60% {\n",
              "      border-color: transparent;\n",
              "      border-right-color: var(--fill-color);\n",
              "    }\n",
              "    80% {\n",
              "      border-color: transparent;\n",
              "      border-right-color: var(--fill-color);\n",
              "      border-bottom-color: var(--fill-color);\n",
              "    }\n",
              "    90% {\n",
              "      border-color: transparent;\n",
              "      border-bottom-color: var(--fill-color);\n",
              "    }\n",
              "  }\n",
              "</style>\n",
              "\n",
              "  <script>\n",
              "    async function quickchart(key) {\n",
              "      const quickchartButtonEl =\n",
              "        document.querySelector('#' + key + ' button');\n",
              "      quickchartButtonEl.disabled = true;  // To prevent multiple clicks.\n",
              "      quickchartButtonEl.classList.add('colab-df-spinner');\n",
              "      try {\n",
              "        const charts = await google.colab.kernel.invokeFunction(\n",
              "            'suggestCharts', [key], {});\n",
              "      } catch (error) {\n",
              "        console.error('Error during call to suggestCharts:', error);\n",
              "      }\n",
              "      quickchartButtonEl.classList.remove('colab-df-spinner');\n",
              "      quickchartButtonEl.classList.add('colab-df-quickchart-complete');\n",
              "    }\n",
              "    (() => {\n",
              "      let quickchartButtonEl =\n",
              "        document.querySelector('#df-2c93cc00-0c01-4301-b588-d846758bc728 button');\n",
              "      quickchartButtonEl.style.display =\n",
              "        google.colab.kernel.accessAllowed ? 'block' : 'none';\n",
              "    })();\n",
              "  </script>\n",
              "</div>\n",
              "    </div>\n",
              "  </div>\n"
            ]
          },
          "metadata": {},
          "execution_count": 14
        }
      ]
    },
    {
      "cell_type": "code",
      "source": [
        "# Percentage of complaints in written format\n",
        "total = df['Complaint'].notnull().sum()\n",
        "round((total/og_df_len*100), 2)"
      ],
      "metadata": {
        "colab": {
          "base_uri": "https://localhost:8080/"
        },
        "id": "NAvQYke0HQiT",
        "outputId": "b87f9bf5-ba6f-4751-f948-a197a14f2ab6"
      },
      "execution_count": 15,
      "outputs": [
        {
          "output_type": "execute_result",
          "data": {
            "text/plain": [
              "36.24"
            ]
          },
          "metadata": {},
          "execution_count": 15
        }
      ]
    },
    {
      "cell_type": "markdown",
      "source": [
        "> Only 36.24 % of the data are having Complaint Texts."
      ],
      "metadata": {
        "id": "mLpo8gO3UNkC"
      }
    },
    {
      "cell_type": "code",
      "source": [
        "# Unique Catagories\n",
        "pd.DataFrame(df.Product.unique()).values"
      ],
      "metadata": {
        "colab": {
          "base_uri": "https://localhost:8080/"
        },
        "id": "P7_eOfioH3Of",
        "outputId": "e953488f-983e-4611-ad0b-e755471bc408"
      },
      "execution_count": 16,
      "outputs": [
        {
          "output_type": "execute_result",
          "data": {
            "text/plain": [
              "array([['Checking or savings account'],\n",
              "       ['Credit reporting, credit repair services, or other personal consumer reports'],\n",
              "       ['Credit card or prepaid card'],\n",
              "       ['Debt collection'],\n",
              "       ['Mortgage'],\n",
              "       ['Credit reporting or other personal consumer reports'],\n",
              "       ['Vehicle loan or lease'],\n",
              "       ['Credit card'],\n",
              "       ['Prepaid card'],\n",
              "       ['Student loan'],\n",
              "       ['Debt or credit management'],\n",
              "       ['Payday loan, title loan, or personal loan'],\n",
              "       ['Money transfer, virtual currency, or money service'],\n",
              "       ['Payday loan, title loan, personal loan, or advance loan'],\n",
              "       ['Consumer Loan'],\n",
              "       ['Bank account or service'],\n",
              "       ['Credit reporting'],\n",
              "       ['Money transfers'],\n",
              "       ['Payday loan'],\n",
              "       ['Other financial service'],\n",
              "       ['Virtual currency']], dtype=object)"
            ]
          },
          "metadata": {},
          "execution_count": 16
        }
      ]
    },
    {
      "cell_type": "markdown",
      "source": [
        "> I took 10000 random sample from dataset. Because in my case beyond that number Google Colab is crashing at some point of the computation."
      ],
      "metadata": {
        "id": "0nstHNuGUdBv"
      }
    },
    {
      "cell_type": "code",
      "source": [
        "# Took a small Sample\n",
        "df = df.sample(10000, random_state=1).copy()"
      ],
      "metadata": {
        "id": "UqBDZfyTInAV"
      },
      "execution_count": 17,
      "outputs": []
    },
    {
      "cell_type": "code",
      "source": [
        "# Renamed the categories for less confusion during predection\n",
        "df.replace({'Product':\n",
        "             {'Credit reporting, credit repair services, or other personal consumer reports':\n",
        "              'Credit reporting, repair, or other',\n",
        "              'Credit reporting': 'Credit reporting, repair, or other',\n",
        "              'Credit card': 'Credit card or prepaid card',\n",
        "              'Prepaid card': 'Credit card or prepaid card',\n",
        "              'Payday loan': 'Payday loan, title loan, or personal loan',\n",
        "              'Money transfer': 'Money transfer, virtual currency, or money service',\n",
        "              'Virtual currency': 'Money transfer, virtual currency, or money service'}},\n",
        "            inplace= True)"
      ],
      "metadata": {
        "id": "Xh9iTQOSJRbV"
      },
      "execution_count": 18,
      "outputs": []
    },
    {
      "cell_type": "markdown",
      "source": [
        "As the assignment requires only 4 catagory to predict\n",
        "\n",
        "0. Credit reporting, repair, or other\n",
        "1. Debt collection\n",
        "2. Consumer Loan\n",
        "3. Mortgage\n",
        "\n",
        "we can remove others."
      ],
      "metadata": {
        "id": "EnZfNnk9F7s-"
      }
    },
    {
      "cell_type": "code",
      "source": [
        "pd.DataFrame(df.Product.unique()).values"
      ],
      "metadata": {
        "colab": {
          "base_uri": "https://localhost:8080/"
        },
        "id": "M4qmKzAwJdHC",
        "outputId": "cdd63a02-2492-4dc8-cf8d-fbe48cec4b56"
      },
      "execution_count": 19,
      "outputs": [
        {
          "output_type": "execute_result",
          "data": {
            "text/plain": [
              "array([['Credit reporting, repair, or other'],\n",
              "       ['Debt collection'],\n",
              "       ['Checking or savings account'],\n",
              "       ['Mortgage'],\n",
              "       ['Vehicle loan or lease'],\n",
              "       ['Credit card or prepaid card'],\n",
              "       ['Money transfer, virtual currency, or money service'],\n",
              "       ['Consumer Loan'],\n",
              "       ['Payday loan, title loan, or personal loan'],\n",
              "       ['Student loan'],\n",
              "       ['Bank account or service'],\n",
              "       ['Money transfers'],\n",
              "       ['Other financial service'],\n",
              "       ['Credit reporting or other personal consumer reports']],\n",
              "      dtype=object)"
            ]
          },
          "metadata": {},
          "execution_count": 19
        }
      ]
    },
    {
      "cell_type": "code",
      "source": [
        "categories_to_keep = ['Credit reporting, repair, or other', 'Debt collection', 'Consumer Loan', 'Mortgage']\n",
        "\n",
        "# Filter the DataFrame\n",
        "df = df[df['Product'].isin(categories_to_keep)]\n",
        "df.head(5)\n"
      ],
      "metadata": {
        "colab": {
          "base_uri": "https://localhost:8080/",
          "height": 206
        },
        "id": "BlVmSsB8KNp7",
        "outputId": "91ee74b0-201a-4422-8e65-4f544111f3af"
      },
      "execution_count": 20,
      "outputs": [
        {
          "output_type": "execute_result",
          "data": {
            "text/plain": [
              "                                    Product  \\\n",
              "3285291  Credit reporting, repair, or other   \n",
              "661888   Credit reporting, repair, or other   \n",
              "2379215  Credit reporting, repair, or other   \n",
              "154588   Credit reporting, repair, or other   \n",
              "992576   Credit reporting, repair, or other   \n",
              "\n",
              "                                                 Complaint  \n",
              "3285291  I have disputed the errors on my credit report...  \n",
              "661888   My house was broken into several years ago and...  \n",
              "2379215  In accordance with the fair credit reporting a...  \n",
              "154588   I sent a letter to TransUnion regarding a publ...  \n",
              "992576   My credit reports are inaccurate. These inaccu...  "
            ],
            "text/html": [
              "\n",
              "  <div id=\"df-0a8810b7-d26c-4550-9e0b-beb83918ac92\" class=\"colab-df-container\">\n",
              "    <div>\n",
              "<style scoped>\n",
              "    .dataframe tbody tr th:only-of-type {\n",
              "        vertical-align: middle;\n",
              "    }\n",
              "\n",
              "    .dataframe tbody tr th {\n",
              "        vertical-align: top;\n",
              "    }\n",
              "\n",
              "    .dataframe thead th {\n",
              "        text-align: right;\n",
              "    }\n",
              "</style>\n",
              "<table border=\"1\" class=\"dataframe\">\n",
              "  <thead>\n",
              "    <tr style=\"text-align: right;\">\n",
              "      <th></th>\n",
              "      <th>Product</th>\n",
              "      <th>Complaint</th>\n",
              "    </tr>\n",
              "  </thead>\n",
              "  <tbody>\n",
              "    <tr>\n",
              "      <th>3285291</th>\n",
              "      <td>Credit reporting, repair, or other</td>\n",
              "      <td>I have disputed the errors on my credit report...</td>\n",
              "    </tr>\n",
              "    <tr>\n",
              "      <th>661888</th>\n",
              "      <td>Credit reporting, repair, or other</td>\n",
              "      <td>My house was broken into several years ago and...</td>\n",
              "    </tr>\n",
              "    <tr>\n",
              "      <th>2379215</th>\n",
              "      <td>Credit reporting, repair, or other</td>\n",
              "      <td>In accordance with the fair credit reporting a...</td>\n",
              "    </tr>\n",
              "    <tr>\n",
              "      <th>154588</th>\n",
              "      <td>Credit reporting, repair, or other</td>\n",
              "      <td>I sent a letter to TransUnion regarding a publ...</td>\n",
              "    </tr>\n",
              "    <tr>\n",
              "      <th>992576</th>\n",
              "      <td>Credit reporting, repair, or other</td>\n",
              "      <td>My credit reports are inaccurate. These inaccu...</td>\n",
              "    </tr>\n",
              "  </tbody>\n",
              "</table>\n",
              "</div>\n",
              "    <div class=\"colab-df-buttons\">\n",
              "\n",
              "  <div class=\"colab-df-container\">\n",
              "    <button class=\"colab-df-convert\" onclick=\"convertToInteractive('df-0a8810b7-d26c-4550-9e0b-beb83918ac92')\"\n",
              "            title=\"Convert this dataframe to an interactive table.\"\n",
              "            style=\"display:none;\">\n",
              "\n",
              "  <svg xmlns=\"http://www.w3.org/2000/svg\" height=\"24px\" viewBox=\"0 -960 960 960\">\n",
              "    <path d=\"M120-120v-720h720v720H120Zm60-500h600v-160H180v160Zm220 220h160v-160H400v160Zm0 220h160v-160H400v160ZM180-400h160v-160H180v160Zm440 0h160v-160H620v160ZM180-180h160v-160H180v160Zm440 0h160v-160H620v160Z\"/>\n",
              "  </svg>\n",
              "    </button>\n",
              "\n",
              "  <style>\n",
              "    .colab-df-container {\n",
              "      display:flex;\n",
              "      gap: 12px;\n",
              "    }\n",
              "\n",
              "    .colab-df-convert {\n",
              "      background-color: #E8F0FE;\n",
              "      border: none;\n",
              "      border-radius: 50%;\n",
              "      cursor: pointer;\n",
              "      display: none;\n",
              "      fill: #1967D2;\n",
              "      height: 32px;\n",
              "      padding: 0 0 0 0;\n",
              "      width: 32px;\n",
              "    }\n",
              "\n",
              "    .colab-df-convert:hover {\n",
              "      background-color: #E2EBFA;\n",
              "      box-shadow: 0px 1px 2px rgba(60, 64, 67, 0.3), 0px 1px 3px 1px rgba(60, 64, 67, 0.15);\n",
              "      fill: #174EA6;\n",
              "    }\n",
              "\n",
              "    .colab-df-buttons div {\n",
              "      margin-bottom: 4px;\n",
              "    }\n",
              "\n",
              "    [theme=dark] .colab-df-convert {\n",
              "      background-color: #3B4455;\n",
              "      fill: #D2E3FC;\n",
              "    }\n",
              "\n",
              "    [theme=dark] .colab-df-convert:hover {\n",
              "      background-color: #434B5C;\n",
              "      box-shadow: 0px 1px 3px 1px rgba(0, 0, 0, 0.15);\n",
              "      filter: drop-shadow(0px 1px 2px rgba(0, 0, 0, 0.3));\n",
              "      fill: #FFFFFF;\n",
              "    }\n",
              "  </style>\n",
              "\n",
              "    <script>\n",
              "      const buttonEl =\n",
              "        document.querySelector('#df-0a8810b7-d26c-4550-9e0b-beb83918ac92 button.colab-df-convert');\n",
              "      buttonEl.style.display =\n",
              "        google.colab.kernel.accessAllowed ? 'block' : 'none';\n",
              "\n",
              "      async function convertToInteractive(key) {\n",
              "        const element = document.querySelector('#df-0a8810b7-d26c-4550-9e0b-beb83918ac92');\n",
              "        const dataTable =\n",
              "          await google.colab.kernel.invokeFunction('convertToInteractive',\n",
              "                                                    [key], {});\n",
              "        if (!dataTable) return;\n",
              "\n",
              "        const docLinkHtml = 'Like what you see? Visit the ' +\n",
              "          '<a target=\"_blank\" href=https://colab.research.google.com/notebooks/data_table.ipynb>data table notebook</a>'\n",
              "          + ' to learn more about interactive tables.';\n",
              "        element.innerHTML = '';\n",
              "        dataTable['output_type'] = 'display_data';\n",
              "        await google.colab.output.renderOutput(dataTable, element);\n",
              "        const docLink = document.createElement('div');\n",
              "        docLink.innerHTML = docLinkHtml;\n",
              "        element.appendChild(docLink);\n",
              "      }\n",
              "    </script>\n",
              "  </div>\n",
              "\n",
              "\n",
              "<div id=\"df-495a4bb7-b9c7-4b4a-b69e-ad943480d560\">\n",
              "  <button class=\"colab-df-quickchart\" onclick=\"quickchart('df-495a4bb7-b9c7-4b4a-b69e-ad943480d560')\"\n",
              "            title=\"Suggest charts.\"\n",
              "            style=\"display:none;\">\n",
              "\n",
              "<svg xmlns=\"http://www.w3.org/2000/svg\" height=\"24px\"viewBox=\"0 0 24 24\"\n",
              "     width=\"24px\">\n",
              "    <g>\n",
              "        <path d=\"M19 3H5c-1.1 0-2 .9-2 2v14c0 1.1.9 2 2 2h14c1.1 0 2-.9 2-2V5c0-1.1-.9-2-2-2zM9 17H7v-7h2v7zm4 0h-2V7h2v10zm4 0h-2v-4h2v4z\"/>\n",
              "    </g>\n",
              "</svg>\n",
              "  </button>\n",
              "\n",
              "<style>\n",
              "  .colab-df-quickchart {\n",
              "      --bg-color: #E8F0FE;\n",
              "      --fill-color: #1967D2;\n",
              "      --hover-bg-color: #E2EBFA;\n",
              "      --hover-fill-color: #174EA6;\n",
              "      --disabled-fill-color: #AAA;\n",
              "      --disabled-bg-color: #DDD;\n",
              "  }\n",
              "\n",
              "  [theme=dark] .colab-df-quickchart {\n",
              "      --bg-color: #3B4455;\n",
              "      --fill-color: #D2E3FC;\n",
              "      --hover-bg-color: #434B5C;\n",
              "      --hover-fill-color: #FFFFFF;\n",
              "      --disabled-bg-color: #3B4455;\n",
              "      --disabled-fill-color: #666;\n",
              "  }\n",
              "\n",
              "  .colab-df-quickchart {\n",
              "    background-color: var(--bg-color);\n",
              "    border: none;\n",
              "    border-radius: 50%;\n",
              "    cursor: pointer;\n",
              "    display: none;\n",
              "    fill: var(--fill-color);\n",
              "    height: 32px;\n",
              "    padding: 0;\n",
              "    width: 32px;\n",
              "  }\n",
              "\n",
              "  .colab-df-quickchart:hover {\n",
              "    background-color: var(--hover-bg-color);\n",
              "    box-shadow: 0 1px 2px rgba(60, 64, 67, 0.3), 0 1px 3px 1px rgba(60, 64, 67, 0.15);\n",
              "    fill: var(--button-hover-fill-color);\n",
              "  }\n",
              "\n",
              "  .colab-df-quickchart-complete:disabled,\n",
              "  .colab-df-quickchart-complete:disabled:hover {\n",
              "    background-color: var(--disabled-bg-color);\n",
              "    fill: var(--disabled-fill-color);\n",
              "    box-shadow: none;\n",
              "  }\n",
              "\n",
              "  .colab-df-spinner {\n",
              "    border: 2px solid var(--fill-color);\n",
              "    border-color: transparent;\n",
              "    border-bottom-color: var(--fill-color);\n",
              "    animation:\n",
              "      spin 1s steps(1) infinite;\n",
              "  }\n",
              "\n",
              "  @keyframes spin {\n",
              "    0% {\n",
              "      border-color: transparent;\n",
              "      border-bottom-color: var(--fill-color);\n",
              "      border-left-color: var(--fill-color);\n",
              "    }\n",
              "    20% {\n",
              "      border-color: transparent;\n",
              "      border-left-color: var(--fill-color);\n",
              "      border-top-color: var(--fill-color);\n",
              "    }\n",
              "    30% {\n",
              "      border-color: transparent;\n",
              "      border-left-color: var(--fill-color);\n",
              "      border-top-color: var(--fill-color);\n",
              "      border-right-color: var(--fill-color);\n",
              "    }\n",
              "    40% {\n",
              "      border-color: transparent;\n",
              "      border-right-color: var(--fill-color);\n",
              "      border-top-color: var(--fill-color);\n",
              "    }\n",
              "    60% {\n",
              "      border-color: transparent;\n",
              "      border-right-color: var(--fill-color);\n",
              "    }\n",
              "    80% {\n",
              "      border-color: transparent;\n",
              "      border-right-color: var(--fill-color);\n",
              "      border-bottom-color: var(--fill-color);\n",
              "    }\n",
              "    90% {\n",
              "      border-color: transparent;\n",
              "      border-bottom-color: var(--fill-color);\n",
              "    }\n",
              "  }\n",
              "</style>\n",
              "\n",
              "  <script>\n",
              "    async function quickchart(key) {\n",
              "      const quickchartButtonEl =\n",
              "        document.querySelector('#' + key + ' button');\n",
              "      quickchartButtonEl.disabled = true;  // To prevent multiple clicks.\n",
              "      quickchartButtonEl.classList.add('colab-df-spinner');\n",
              "      try {\n",
              "        const charts = await google.colab.kernel.invokeFunction(\n",
              "            'suggestCharts', [key], {});\n",
              "      } catch (error) {\n",
              "        console.error('Error during call to suggestCharts:', error);\n",
              "      }\n",
              "      quickchartButtonEl.classList.remove('colab-df-spinner');\n",
              "      quickchartButtonEl.classList.add('colab-df-quickchart-complete');\n",
              "    }\n",
              "    (() => {\n",
              "      let quickchartButtonEl =\n",
              "        document.querySelector('#df-495a4bb7-b9c7-4b4a-b69e-ad943480d560 button');\n",
              "      quickchartButtonEl.style.display =\n",
              "        google.colab.kernel.accessAllowed ? 'block' : 'none';\n",
              "    })();\n",
              "  </script>\n",
              "</div>\n",
              "    </div>\n",
              "  </div>\n"
            ]
          },
          "metadata": {},
          "execution_count": 20
        }
      ]
    },
    {
      "cell_type": "code",
      "source": [
        "pd.DataFrame(df.Product.unique()).values"
      ],
      "metadata": {
        "colab": {
          "base_uri": "https://localhost:8080/"
        },
        "id": "-EB7wJWwNaB8",
        "outputId": "a0b0027b-7855-45fd-b39e-13bd7a4f7cb2"
      },
      "execution_count": 21,
      "outputs": [
        {
          "output_type": "execute_result",
          "data": {
            "text/plain": [
              "array([['Credit reporting, repair, or other'],\n",
              "       ['Debt collection'],\n",
              "       ['Mortgage'],\n",
              "       ['Consumer Loan']], dtype=object)"
            ]
          },
          "metadata": {},
          "execution_count": 21
        }
      ]
    },
    {
      "cell_type": "code",
      "source": [
        "df[\"Product\"].value_counts().plot(kind=\"pie\", autopct=\"%.2f%%\")"
      ],
      "metadata": {
        "colab": {
          "base_uri": "https://localhost:8080/",
          "height": 424
        },
        "id": "TQYXcCM_-xYF",
        "outputId": "a2c94833-bdc3-432d-826a-5e66e64bedda"
      },
      "execution_count": 22,
      "outputs": [
        {
          "output_type": "execute_result",
          "data": {
            "text/plain": [
              "<Axes: ylabel='Product'>"
            ]
          },
          "metadata": {},
          "execution_count": 22
        },
        {
          "output_type": "display_data",
          "data": {
            "text/plain": [
              "<Figure size 640x480 with 1 Axes>"
            ],
            "image/png": "[encoded data removed]"
          },
          "metadata": {}
        }
      ]
    },
    {
      "cell_type": "code",
      "source": [
        "df.shape"
      ],
      "metadata": {
        "colab": {
          "base_uri": "https://localhost:8080/"
        },
        "id": "uEBZm7DvNjHR",
        "outputId": "2829572f-2160-470c-bbff-89d5ca757365"
      },
      "execution_count": 23,
      "outputs": [
        {
          "output_type": "execute_result",
          "data": {
            "text/plain": [
              "(7797, 2)"
            ]
          },
          "metadata": {},
          "execution_count": 23
        }
      ]
    },
    {
      "cell_type": "code",
      "source": [
        "# Defined a dictionary to map category names to numerical values\n",
        "\n",
        "category_map = {\n",
        "    'Credit reporting, repair, or other': 0,\n",
        "    'Debt collection': 1,\n",
        "    'Consumer Loan': 2,\n",
        "    'Mortgage': 3\n",
        "}\n",
        "\n",
        "# Created a new column 'cate_id' with encoded categories --> label Encoding.\n",
        "df['encoded_label'] = df['Product'].map(category_map)\n",
        "\n",
        "df.head()"
      ],
      "metadata": {
        "colab": {
          "base_uri": "https://localhost:8080/",
          "height": 206
        },
        "id": "NCW7uYLQNsbY",
        "outputId": "e1a93f17-b3ae-4288-d352-92fc8d52eaa3"
      },
      "execution_count": 24,
      "outputs": [
        {
          "output_type": "execute_result",
          "data": {
            "text/plain": [
              "                                    Product  \\\n",
              "3285291  Credit reporting, repair, or other   \n",
              "661888   Credit reporting, repair, or other   \n",
              "2379215  Credit reporting, repair, or other   \n",
              "154588   Credit reporting, repair, or other   \n",
              "992576   Credit reporting, repair, or other   \n",
              "\n",
              "                                                 Complaint  encoded_label  \n",
              "3285291  I have disputed the errors on my credit report...              0  \n",
              "661888   My house was broken into several years ago and...              0  \n",
              "2379215  In accordance with the fair credit reporting a...              0  \n",
              "154588   I sent a letter to TransUnion regarding a publ...              0  \n",
              "992576   My credit reports are inaccurate. These inaccu...              0  "
            ],
            "text/html": [
              "\n",
              "  <div id=\"df-d2c1952d-0ed4-4f6a-8ef9-fcb6ed4da41a\" class=\"colab-df-container\">\n",
              "    <div>\n",
              "<style scoped>\n",
              "    .dataframe tbody tr th:only-of-type {\n",
              "        vertical-align: middle;\n",
              "    }\n",
              "\n",
              "    .dataframe tbody tr th {\n",
              "        vertical-align: top;\n",
              "    }\n",
              "\n",
              "    .dataframe thead th {\n",
              "        text-align: right;\n",
              "    }\n",
              "</style>\n",
              "<table border=\"1\" class=\"dataframe\">\n",
              "  <thead>\n",
              "    <tr style=\"text-align: right;\">\n",
              "      <th></th>\n",
              "      <th>Product</th>\n",
              "      <th>Complaint</th>\n",
              "      <th>encoded_label</th>\n",
              "    </tr>\n",
              "  </thead>\n",
              "  <tbody>\n",
              "    <tr>\n",
              "      <th>3285291</th>\n",
              "      <td>Credit reporting, repair, or other</td>\n",
              "      <td>I have disputed the errors on my credit report...</td>\n",
              "      <td>0</td>\n",
              "    </tr>\n",
              "    <tr>\n",
              "      <th>661888</th>\n",
              "      <td>Credit reporting, repair, or other</td>\n",
              "      <td>My house was broken into several years ago and...</td>\n",
              "      <td>0</td>\n",
              "    </tr>\n",
              "    <tr>\n",
              "      <th>2379215</th>\n",
              "      <td>Credit reporting, repair, or other</td>\n",
              "      <td>In accordance with the fair credit reporting a...</td>\n",
              "      <td>0</td>\n",
              "    </tr>\n",
              "    <tr>\n",
              "      <th>154588</th>\n",
              "      <td>Credit reporting, repair, or other</td>\n",
              "      <td>I sent a letter to TransUnion regarding a publ...</td>\n",
              "      <td>0</td>\n",
              "    </tr>\n",
              "    <tr>\n",
              "      <th>992576</th>\n",
              "      <td>Credit reporting, repair, or other</td>\n",
              "      <td>My credit reports are inaccurate. These inaccu...</td>\n",
              "      <td>0</td>\n",
              "    </tr>\n",
              "  </tbody>\n",
              "</table>\n",
              "</div>\n",
              "    <div class=\"colab-df-buttons\">\n",
              "\n",
              "  <div class=\"colab-df-container\">\n",
              "    <button class=\"colab-df-convert\" onclick=\"convertToInteractive('df-d2c1952d-0ed4-4f6a-8ef9-fcb6ed4da41a')\"\n",
              "            title=\"Convert this dataframe to an interactive table.\"\n",
              "            style=\"display:none;\">\n",
              "\n",
              "  <svg xmlns=\"http://www.w3.org/2000/svg\" height=\"24px\" viewBox=\"0 -960 960 960\">\n",
              "    <path d=\"M120-120v-720h720v720H120Zm60-500h600v-160H180v160Zm220 220h160v-160H400v160Zm0 220h160v-160H400v160ZM180-400h160v-160H180v160Zm440 0h160v-160H620v160ZM180-180h160v-160H180v160Zm440 0h160v-160H620v160Z\"/>\n",
              "  </svg>\n",
              "    </button>\n",
              "\n",
              "  <style>\n",
              "    .colab-df-container {\n",
              "      display:flex;\n",
              "      gap: 12px;\n",
              "    }\n",
              "\n",
              "    .colab-df-convert {\n",
              "      background-color: #E8F0FE;\n",
              "      border: none;\n",
              "      border-radius: 50%;\n",
              "      cursor: pointer;\n",
              "      display: none;\n",
              "      fill: #1967D2;\n",
              "      height: 32px;\n",
              "      padding: 0 0 0 0;\n",
              "      width: 32px;\n",
              "    }\n",
              "\n",
              "    .colab-df-convert:hover {\n",
              "      background-color: #E2EBFA;\n",
              "      box-shadow: 0px 1px 2px rgba(60, 64, 67, 0.3), 0px 1px 3px 1px rgba(60, 64, 67, 0.15);\n",
              "      fill: #174EA6;\n",
              "    }\n",
              "\n",
              "    .colab-df-buttons div {\n",
              "      margin-bottom: 4px;\n",
              "    }\n",
              "\n",
              "    [theme=dark] .colab-df-convert {\n",
              "      background-color: #3B4455;\n",
              "      fill: #D2E3FC;\n",
              "    }\n",
              "\n",
              "    [theme=dark] .colab-df-convert:hover {\n",
              "      background-color: #434B5C;\n",
              "      box-shadow: 0px 1px 3px 1px rgba(0, 0, 0, 0.15);\n",
              "      filter: drop-shadow(0px 1px 2px rgba(0, 0, 0, 0.3));\n",
              "      fill: #FFFFFF;\n",
              "    }\n",
              "  </style>\n",
              "\n",
              "    <script>\n",
              "      const buttonEl =\n",
              "        document.querySelector('#df-d2c1952d-0ed4-4f6a-8ef9-fcb6ed4da41a button.colab-df-convert');\n",
              "      buttonEl.style.display =\n",
              "        google.colab.kernel.accessAllowed ? 'block' : 'none';\n",
              "\n",
              "      async function convertToInteractive(key) {\n",
              "        const element = document.querySelector('#df-d2c1952d-0ed4-4f6a-8ef9-fcb6ed4da41a');\n",
              "        const dataTable =\n",
              "          await google.colab.kernel.invokeFunction('convertToInteractive',\n",
              "                                                    [key], {});\n",
              "        if (!dataTable) return;\n",
              "\n",
              "        const docLinkHtml = 'Like what you see? Visit the ' +\n",
              "          '<a target=\"_blank\" href=https://colab.research.google.com/notebooks/data_table.ipynb>data table notebook</a>'\n",
              "          + ' to learn more about interactive tables.';\n",
              "        element.innerHTML = '';\n",
              "        dataTable['output_type'] = 'display_data';\n",
              "        await google.colab.output.renderOutput(dataTable, element);\n",
              "        const docLink = document.createElement('div');\n",
              "        docLink.innerHTML = docLinkHtml;\n",
              "        element.appendChild(docLink);\n",
              "      }\n",
              "    </script>\n",
              "  </div>\n",
              "\n",
              "\n",
              "<div id=\"df-c5f4e36c-4d9a-4ae4-806b-623b1a34e6c2\">\n",
              "  <button class=\"colab-df-quickchart\" onclick=\"quickchart('df-c5f4e36c-4d9a-4ae4-806b-623b1a34e6c2')\"\n",
              "            title=\"Suggest charts.\"\n",
              "            style=\"display:none;\">\n",
              "\n",
              "<svg xmlns=\"http://www.w3.org/2000/svg\" height=\"24px\"viewBox=\"0 0 24 24\"\n",
              "     width=\"24px\">\n",
              "    <g>\n",
              "        <path d=\"M19 3H5c-1.1 0-2 .9-2 2v14c0 1.1.9 2 2 2h14c1.1 0 2-.9 2-2V5c0-1.1-.9-2-2-2zM9 17H7v-7h2v7zm4 0h-2V7h2v10zm4 0h-2v-4h2v4z\"/>\n",
              "    </g>\n",
              "</svg>\n",
              "  </button>\n",
              "\n",
              "<style>\n",
              "  .colab-df-quickchart {\n",
              "      --bg-color: #E8F0FE;\n",
              "      --fill-color: #1967D2;\n",
              "      --hover-bg-color: #E2EBFA;\n",
              "      --hover-fill-color: #174EA6;\n",
              "      --disabled-fill-color: #AAA;\n",
              "      --disabled-bg-color: #DDD;\n",
              "  }\n",
              "\n",
              "  [theme=dark] .colab-df-quickchart {\n",
              "      --bg-color: #3B4455;\n",
              "      --fill-color: #D2E3FC;\n",
              "      --hover-bg-color: #434B5C;\n",
              "      --hover-fill-color: #FFFFFF;\n",
              "      --disabled-bg-color: #3B4455;\n",
              "      --disabled-fill-color: #666;\n",
              "  }\n",
              "\n",
              "  .colab-df-quickchart {\n",
              "    background-color: var(--bg-color);\n",
              "    border: none;\n",
              "    border-radius: 50%;\n",
              "    cursor: pointer;\n",
              "    display: none;\n",
              "    fill: var(--fill-color);\n",
              "    height: 32px;\n",
              "    padding: 0;\n",
              "    width: 32px;\n",
              "  }\n",
              "\n",
              "  .colab-df-quickchart:hover {\n",
              "    background-color: var(--hover-bg-color);\n",
              "    box-shadow: 0 1px 2px rgba(60, 64, 67, 0.3), 0 1px 3px 1px rgba(60, 64, 67, 0.15);\n",
              "    fill: var(--button-hover-fill-color);\n",
              "  }\n",
              "\n",
              "  .colab-df-quickchart-complete:disabled,\n",
              "  .colab-df-quickchart-complete:disabled:hover {\n",
              "    background-color: var(--disabled-bg-color);\n",
              "    fill: var(--disabled-fill-color);\n",
              "    box-shadow: none;\n",
              "  }\n",
              "\n",
              "  .colab-df-spinner {\n",
              "    border: 2px solid var(--fill-color);\n",
              "    border-color: transparent;\n",
              "    border-bottom-color: var(--fill-color);\n",
              "    animation:\n",
              "      spin 1s steps(1) infinite;\n",
              "  }\n",
              "\n",
              "  @keyframes spin {\n",
              "    0% {\n",
              "      border-color: transparent;\n",
              "      border-bottom-color: var(--fill-color);\n",
              "      border-left-color: var(--fill-color);\n",
              "    }\n",
              "    20% {\n",
              "      border-color: transparent;\n",
              "      border-left-color: var(--fill-color);\n",
              "      border-top-color: var(--fill-color);\n",
              "    }\n",
              "    30% {\n",
              "      border-color: transparent;\n",
              "      border-left-color: var(--fill-color);\n",
              "      border-top-color: var(--fill-color);\n",
              "      border-right-color: var(--fill-color);\n",
              "    }\n",
              "    40% {\n",
              "      border-color: transparent;\n",
              "      border-right-color: var(--fill-color);\n",
              "      border-top-color: var(--fill-color);\n",
              "    }\n",
              "    60% {\n",
              "      border-color: transparent;\n",
              "      border-right-color: var(--fill-color);\n",
              "    }\n",
              "    80% {\n",
              "      border-color: transparent;\n",
              "      border-right-color: var(--fill-color);\n",
              "      border-bottom-color: var(--fill-color);\n",
              "    }\n",
              "    90% {\n",
              "      border-color: transparent;\n",
              "      border-bottom-color: var(--fill-color);\n",
              "    }\n",
              "  }\n",
              "</style>\n",
              "\n",
              "  <script>\n",
              "    async function quickchart(key) {\n",
              "      const quickchartButtonEl =\n",
              "        document.querySelector('#' + key + ' button');\n",
              "      quickchartButtonEl.disabled = true;  // To prevent multiple clicks.\n",
              "      quickchartButtonEl.classList.add('colab-df-spinner');\n",
              "      try {\n",
              "        const charts = await google.colab.kernel.invokeFunction(\n",
              "            'suggestCharts', [key], {});\n",
              "      } catch (error) {\n",
              "        console.error('Error during call to suggestCharts:', error);\n",
              "      }\n",
              "      quickchartButtonEl.classList.remove('colab-df-spinner');\n",
              "      quickchartButtonEl.classList.add('colab-df-quickchart-complete');\n",
              "    }\n",
              "    (() => {\n",
              "      let quickchartButtonEl =\n",
              "        document.querySelector('#df-c5f4e36c-4d9a-4ae4-806b-623b1a34e6c2 button');\n",
              "      quickchartButtonEl.style.display =\n",
              "        google.colab.kernel.accessAllowed ? 'block' : 'none';\n",
              "    })();\n",
              "  </script>\n",
              "</div>\n",
              "    </div>\n",
              "  </div>\n"
            ]
          },
          "metadata": {},
          "execution_count": 24
        }
      ]
    },
    {
      "cell_type": "code",
      "source": [
        "fig = plt.figure(figsize=(8,6))\n",
        "colors = ['green','green','yellow','red']\n",
        "\n",
        "df.groupby('Product').Complaint.count().sort_values().plot.barh(\n",
        "    ylim=0, color=colors, title= 'COMPLAINTS IN EACH CATEGORY\\n')\n",
        "plt.xlabel('Number of complaints', fontsize = 10);"
      ],
      "metadata": {
        "colab": {
          "base_uri": "https://localhost:8080/",
          "height": 585
        },
        "id": "ocu2BIODRq9h",
        "outputId": "0e5caff0-d6f1-407d-9c2a-c26dedcd4c0a"
      },
      "execution_count": 25,
      "outputs": [
        {
          "output_type": "display_data",
          "data": {
            "text/plain": [
              "<Figure size 800x600 with 1 Axes>"
            ],
            "image/png": "[encoded data removed]"
          },
          "metadata": {}
        }
      ]
    },
    {
      "cell_type": "markdown",
      "source": [
        "##2. Text Pre-Processing"
      ],
      "metadata": {
        "id": "Eo3TZHwpD-cx"
      }
    },
    {
      "cell_type": "markdown",
      "source": [
        "*** To clean the text and pre-process it, I defined \"clean_text()\" and \"pre_process_text()\", some helper-functions in the \"[Utility functions](#scrollTo=XGOp0oIPlBb2)\"(Click to go to the section/functions) section of the note-book.\n",
        "\n",
        "\n",
        "---\n"
      ],
      "metadata": {
        "id": "T4cRF0wxpAfO"
      }
    },
    {
      "cell_type": "markdown",
      "source": [
        "\n",
        "> **clean_text()**\n",
        "\n",
        "The function clean_text() performs the following text preprocessing steps:\n",
        "\n",
        "* Converts the text to lowercase. This is important because most NLP algorithms are case-insensitive.\n",
        "* Tokenizes the text into words. This involves splitting the text into individual words, taking into account punctuation and contractions.\n",
        "* Removes punctuation and special characters. This is done to reduce the number of features that the NLP algorithm needs to consider.\n",
        "* Removes numerical digits. This is done because NLP algorithms are typically trained on text data, not numerical data.\n",
        "* Removes common stop words. Stop words are words that are very common in a language and do not add much meaning to a sentence. Removing stop words can improve the performance of NLP algorithms by reducing the number of features that they need to consider.\n",
        "* (Optional) Lemmatizes words to their base form. Lemmatization is the process of converting words to their base form. For example, the words \"walk,\" \"walking,\" and \"walker\" would all be lemmatized to the word \"walk.\" Lemmatization can improve the performance of NLP algorithms by making it easier for them to understand the meaning of words.\n",
        "\n",
        "\n",
        "\n",
        "> **pre_process_texts()**\n",
        "\n",
        "\n",
        "\n",
        "The steps performed by the pre_process_texts() function:\n",
        "\n",
        "* Clean the text data. This involves removing punctuation, stop words, and other noise.\n",
        "* Lemmatize the text data (optional). This involves converting words to their base form.\n",
        "* Vectorize the text data. This involves converting the text data to a numerical representation that can be used by machine learning algorithms."
      ],
      "metadata": {
        "id": "Rqc36GKVvyyx"
      }
    },
    {
      "cell_type": "code",
      "source": [
        "df['Complaint'].iloc[1]"
      ],
      "metadata": {
        "colab": {
          "base_uri": "https://localhost:8080/",
          "height": 36
        },
        "id": "71pMUZbfO6bS",
        "outputId": "0532e438-fb18-4622-b3c6-a9a3ae97de0e"
      },
      "execution_count": 26,
      "outputs": [
        {
          "output_type": "execute_result",
          "data": {
            "text/plain": [
              "\"My house was broken into several years ago and I've been having problems with ppl using my ID to obtain things for years. Pls make this all go away!\""
            ],
            "application/vnd.google.colaboratory.intrinsic+json": {
              "type": "string"
            }
          },
          "metadata": {},
          "execution_count": 26
        }
      ]
    },
    {
      "cell_type": "code",
      "source": [
        "df['Complaint'] = df['Complaint'].apply(lambda x: clean_text(x))\n",
        "df['Complaint'].iloc[1]"
      ],
      "metadata": {
        "colab": {
          "base_uri": "https://localhost:8080/",
          "height": 36
        },
        "id": "-fRLv7uJOEgn",
        "outputId": "faf3f59e-f9d9-4055-c6cd-f0692ff19522"
      },
      "execution_count": 27,
      "outputs": [
        {
          "output_type": "execute_result",
          "data": {
            "text/plain": [
              "'house broken several year ago problem ppl using id obtain thing year pls make go away'"
            ],
            "application/vnd.google.colaboratory.intrinsic+json": {
              "type": "string"
            }
          },
          "metadata": {},
          "execution_count": 27
        }
      ]
    },
    {
      "cell_type": "markdown",
      "source": [
        "The texts are now clean enough for proceeding.\n",
        "\n",
        "For feature engineering, I am using TF-IDF, which is a common technique for text classification.\n",
        "\n",
        "TF-IDFs are word frequency scores that try to highlight words that are more interesting."
      ],
      "metadata": {
        "id": "RPPUmj9gHfna"
      }
    },
    {
      "cell_type": "code",
      "source": [
        "#TF-IDFs are word frequency scores that try to highlight words that are more interesting.\n",
        "tfidf = TfidfVectorizer(sublinear_tf=True, min_df=5,\n",
        "                        ngram_range=(1, 2),\n",
        "                        stop_words='english')\n",
        "\n",
        "# Transform each complaint into a vector\n",
        "features = tfidf.fit_transform(df.Complaint).toarray()\n",
        "\n",
        "labels = df.encoded_label"
      ],
      "metadata": {
        "id": "Drbg6i1cVShq"
      },
      "execution_count": 28,
      "outputs": []
    },
    {
      "cell_type": "code",
      "source": [
        "# Three most correlated terms with each of the 4 product categories\n",
        "N = 3\n",
        "for Product, category_id in sorted(category_map.items()):\n",
        "  features_chi2 = chi2(features, labels == category_id)\n",
        "  indices = np.argsort(features_chi2[0])\n",
        "  feature_names = np.array(tfidf.get_feature_names_out())[indices]\n",
        "  unigrams = [v for v in feature_names if len(v.split(' ')) == 1]\n",
        "  bigrams = [v for v in feature_names if len(v.split(' ')) == 2]\n",
        "  print(\"\\n%s:\" %(Product))\n",
        "  print(\"_________________________________________\")\n",
        "  print(\"  - Most Correlated Unigrams:    %s\" %(', '.join(unigrams[-N:])))\n",
        "  print(\"  - Most Correlated Bigrams:     %s\" %(', '.join(bigrams[-N:])))"
      ],
      "metadata": {
        "colab": {
          "base_uri": "https://localhost:8080/"
        },
        "id": "G4ByIOKVWqdX",
        "outputId": "48bdad1e-13f2-439b-855a-2104a5a4260c"
      },
      "execution_count": 31,
      "outputs": [
        {
          "output_type": "stream",
          "name": "stdout",
          "text": [
            "\n",
            "Consumer Loan:\n",
            "_________________________________________\n",
            "  - Most Correlated Unigrams:    ally, toyota, car\n",
            "  - Most Correlated Bigrams:     car time, repossessed car, purchased vehicle\n",
            "\n",
            "Credit reporting, repair, or other:\n",
            "_________________________________________\n",
            "  - Most Correlated Unigrams:    section, mortgage, debt\n",
            "  - Most Correlated Bigrams:     reporting agency, right privacy, section state\n",
            "\n",
            "Debt collection:\n",
            "_________________________________________\n",
            "  - Most Correlated Unigrams:    owe, collection, debt\n",
            "  - Most Correlated Bigrams:     collect debt, debt collection, collection agency\n",
            "\n",
            "Mortgage:\n",
            "_________________________________________\n",
            "  - Most Correlated Unigrams:    escrow, modification, mortgage\n",
            "  - Most Correlated Bigrams:     mortgage company, mortgage payment, loan modification\n"
          ]
        }
      ]
    },
    {
      "cell_type": "markdown",
      "source": [
        "##3. Selection of Multi Classification model"
      ],
      "metadata": {
        "id": "0P-po_coHaab"
      }
    },
    {
      "cell_type": "markdown",
      "source": [
        "I took 7 models to work on for now\n",
        "1. Linear Support Vector Machine (LinearSVM)\n",
        "2. Logistic Regression\n",
        "3. Random Forest\n",
        "4. Multinomial Naive Bayes\n",
        "5. K Neighbors Classifier\n",
        "6. AdaBoost Classifier\n",
        "7. Bagging Classifier"
      ],
      "metadata": {
        "id": "RiljN9BSIU8P"
      }
    },
    {
      "cell_type": "code",
      "source": [
        "models = [\n",
        "    RandomForestClassifier(n_estimators=100, max_depth=5, random_state=0),\n",
        "    LinearSVC(),\n",
        "    MultinomialNB(),\n",
        "    LogisticRegression(random_state=0),\n",
        "    KNeighborsClassifier(),\n",
        "    AdaBoostClassifier(),\n",
        "    BaggingClassifier()\n",
        "]\n",
        "\n",
        "# 5 Cross-validation\n",
        "CV = 5\n",
        "crossval_df = pd.DataFrame(index=range(CV * len(models)))\n",
        "\n",
        "entries = []\n",
        "for model in models:\n",
        "  model_name = model.__class__.__name__\n",
        "  print(f\"Current Model : {model_name}\")\n",
        "  accuracies = cross_val_score(model, features, labels, scoring='accuracy', cv=CV)\n",
        "  for fold_idx, accuracy in enumerate(accuracies):\n",
        "    entries.append((model_name, fold_idx, accuracy))\n",
        "\n",
        "crossval_df = pd.DataFrame(entries, columns=['model_name', 'fold_idx', 'accuracy'])"
      ],
      "metadata": {
        "id": "PkON-8QPZ8qv",
        "colab": {
          "base_uri": "https://localhost:8080/"
        },
        "outputId": "f4f92fa4-d661-416b-ba88-bfd32fc6d922"
      },
      "execution_count": 32,
      "outputs": [
        {
          "output_type": "stream",
          "name": "stdout",
          "text": [
            "Current Model : RandomForestClassifier\n",
            "Current Model : LinearSVC\n",
            "Current Model : MultinomialNB\n",
            "Current Model : LogisticRegression\n",
            "Current Model : KNeighborsClassifier\n",
            "Current Model : AdaBoostClassifier\n",
            "Current Model : BaggingClassifier\n"
          ]
        }
      ]
    },
    {
      "cell_type": "markdown",
      "source": [
        "##4. Comparison of model performance"
      ],
      "metadata": {
        "id": "Pt-JH0tHILeS"
      }
    },
    {
      "cell_type": "markdown",
      "source": [
        "For comparison I used Mean and Standard Deviation, which are the easiest and most popular parameters for model comparison."
      ],
      "metadata": {
        "id": "1F7kjnn0PJEh"
      }
    },
    {
      "cell_type": "code",
      "source": [
        "mean = crossval_df.groupby('model_name').accuracy.mean()\n",
        "std = crossval_df.groupby('model_name').accuracy.std()\n",
        "\n",
        "acc = pd.concat([mean, std], axis= 1,\n",
        "          ignore_index=True)\n",
        "acc.columns = ['Mean Accuracy', 'Standard deviation']\n",
        "acc"
      ],
      "metadata": {
        "colab": {
          "base_uri": "https://localhost:8080/",
          "height": 300
        },
        "id": "QdFu-LoghHCr",
        "outputId": "00310f86-aadf-495f-b727-62a23f77293f"
      },
      "execution_count": 33,
      "outputs": [
        {
          "output_type": "execute_result",
          "data": {
            "text/plain": [
              "                        Mean Accuracy  Standard deviation\n",
              "model_name                                               \n",
              "AdaBoostClassifier           0.831731            0.007152\n",
              "BaggingClassifier            0.861998            0.003345\n",
              "KNeighborsClassifier         0.854048            0.005593\n",
              "LinearSVC                    0.896627            0.004115\n",
              "LogisticRegression           0.893933            0.004355\n",
              "MultinomialNB                0.856355            0.003968\n",
              "RandomForestClassifier       0.700141            0.000838"
            ],
            "text/html": [
              "\n",
              "  <div id=\"df-6a747ac9-b996-42b7-87bc-af8b53d30a8f\" class=\"colab-df-container\">\n",
              "    <div>\n",
              "<style scoped>\n",
              "    .dataframe tbody tr th:only-of-type {\n",
              "        vertical-align: middle;\n",
              "    }\n",
              "\n",
              "    .dataframe tbody tr th {\n",
              "        vertical-align: top;\n",
              "    }\n",
              "\n",
              "    .dataframe thead th {\n",
              "        text-align: right;\n",
              "    }\n",
              "</style>\n",
              "<table border=\"1\" class=\"dataframe\">\n",
              "  <thead>\n",
              "    <tr style=\"text-align: right;\">\n",
              "      <th></th>\n",
              "      <th>Mean Accuracy</th>\n",
              "      <th>Standard deviation</th>\n",
              "    </tr>\n",
              "    <tr>\n",
              "      <th>model_name</th>\n",
              "      <th></th>\n",
              "      <th></th>\n",
              "    </tr>\n",
              "  </thead>\n",
              "  <tbody>\n",
              "    <tr>\n",
              "      <th>AdaBoostClassifier</th>\n",
              "      <td>0.831731</td>\n",
              "      <td>0.007152</td>\n",
              "    </tr>\n",
              "    <tr>\n",
              "      <th>BaggingClassifier</th>\n",
              "      <td>0.861998</td>\n",
              "      <td>0.003345</td>\n",
              "    </tr>\n",
              "    <tr>\n",
              "      <th>KNeighborsClassifier</th>\n",
              "      <td>0.854048</td>\n",
              "      <td>0.005593</td>\n",
              "    </tr>\n",
              "    <tr>\n",
              "      <th>LinearSVC</th>\n",
              "      <td>0.896627</td>\n",
              "      <td>0.004115</td>\n",
              "    </tr>\n",
              "    <tr>\n",
              "      <th>LogisticRegression</th>\n",
              "      <td>0.893933</td>\n",
              "      <td>0.004355</td>\n",
              "    </tr>\n",
              "    <tr>\n",
              "      <th>MultinomialNB</th>\n",
              "      <td>0.856355</td>\n",
              "      <td>0.003968</td>\n",
              "    </tr>\n",
              "    <tr>\n",
              "      <th>RandomForestClassifier</th>\n",
              "      <td>0.700141</td>\n",
              "      <td>0.000838</td>\n",
              "    </tr>\n",
              "  </tbody>\n",
              "</table>\n",
              "</div>\n",
              "    <div class=\"colab-df-buttons\">\n",
              "\n",
              "  <div class=\"colab-df-container\">\n",
              "    <button class=\"colab-df-convert\" onclick=\"convertToInteractive('df-6a747ac9-b996-42b7-87bc-af8b53d30a8f')\"\n",
              "            title=\"Convert this dataframe to an interactive table.\"\n",
              "            style=\"display:none;\">\n",
              "\n",
              "  <svg xmlns=\"http://www.w3.org/2000/svg\" height=\"24px\" viewBox=\"0 -960 960 960\">\n",
              "    <path d=\"M120-120v-720h720v720H120Zm60-500h600v-160H180v160Zm220 220h160v-160H400v160Zm0 220h160v-160H400v160ZM180-400h160v-160H180v160Zm440 0h160v-160H620v160ZM180-180h160v-160H180v160Zm440 0h160v-160H620v160Z\"/>\n",
              "  </svg>\n",
              "    </button>\n",
              "\n",
              "  <style>\n",
              "    .colab-df-container {\n",
              "      display:flex;\n",
              "      gap: 12px;\n",
              "    }\n",
              "\n",
              "    .colab-df-convert {\n",
              "      background-color: #E8F0FE;\n",
              "      border: none;\n",
              "      border-radius: 50%;\n",
              "      cursor: pointer;\n",
              "      display: none;\n",
              "      fill: #1967D2;\n",
              "      height: 32px;\n",
              "      padding: 0 0 0 0;\n",
              "      width: 32px;\n",
              "    }\n",
              "\n",
              "    .colab-df-convert:hover {\n",
              "      background-color: #E2EBFA;\n",
              "      box-shadow: 0px 1px 2px rgba(60, 64, 67, 0.3), 0px 1px 3px 1px rgba(60, 64, 67, 0.15);\n",
              "      fill: #174EA6;\n",
              "    }\n",
              "\n",
              "    .colab-df-buttons div {\n",
              "      margin-bottom: 4px;\n",
              "    }\n",
              "\n",
              "    [theme=dark] .colab-df-convert {\n",
              "      background-color: #3B4455;\n",
              "      fill: #D2E3FC;\n",
              "    }\n",
              "\n",
              "    [theme=dark] .colab-df-convert:hover {\n",
              "      background-color: #434B5C;\n",
              "      box-shadow: 0px 1px 3px 1px rgba(0, 0, 0, 0.15);\n",
              "      filter: drop-shadow(0px 1px 2px rgba(0, 0, 0, 0.3));\n",
              "      fill: #FFFFFF;\n",
              "    }\n",
              "  </style>\n",
              "\n",
              "    <script>\n",
              "      const buttonEl =\n",
              "        document.querySelector('#df-6a747ac9-b996-42b7-87bc-af8b53d30a8f button.colab-df-convert');\n",
              "      buttonEl.style.display =\n",
              "        google.colab.kernel.accessAllowed ? 'block' : 'none';\n",
              "\n",
              "      async function convertToInteractive(key) {\n",
              "        const element = document.querySelector('#df-6a747ac9-b996-42b7-87bc-af8b53d30a8f');\n",
              "        const dataTable =\n",
              "          await google.colab.kernel.invokeFunction('convertToInteractive',\n",
              "                                                    [key], {});\n",
              "        if (!dataTable) return;\n",
              "\n",
              "        const docLinkHtml = 'Like what you see? Visit the ' +\n",
              "          '<a target=\"_blank\" href=https://colab.research.google.com/notebooks/data_table.ipynb>data table notebook</a>'\n",
              "          + ' to learn more about interactive tables.';\n",
              "        element.innerHTML = '';\n",
              "        dataTable['output_type'] = 'display_data';\n",
              "        await google.colab.output.renderOutput(dataTable, element);\n",
              "        const docLink = document.createElement('div');\n",
              "        docLink.innerHTML = docLinkHtml;\n",
              "        element.appendChild(docLink);\n",
              "      }\n",
              "    </script>\n",
              "  </div>\n",
              "\n",
              "\n",
              "<div id=\"df-6b5a7e17-20da-4329-8cce-6a37f662e755\">\n",
              "  <button class=\"colab-df-quickchart\" onclick=\"quickchart('df-6b5a7e17-20da-4329-8cce-6a37f662e755')\"\n",
              "            title=\"Suggest charts.\"\n",
              "            style=\"display:none;\">\n",
              "\n",
              "<svg xmlns=\"http://www.w3.org/2000/svg\" height=\"24px\"viewBox=\"0 0 24 24\"\n",
              "     width=\"24px\">\n",
              "    <g>\n",
              "        <path d=\"M19 3H5c-1.1 0-2 .9-2 2v14c0 1.1.9 2 2 2h14c1.1 0 2-.9 2-2V5c0-1.1-.9-2-2-2zM9 17H7v-7h2v7zm4 0h-2V7h2v10zm4 0h-2v-4h2v4z\"/>\n",
              "    </g>\n",
              "</svg>\n",
              "  </button>\n",
              "\n",
              "<style>\n",
              "  .colab-df-quickchart {\n",
              "      --bg-color: #E8F0FE;\n",
              "      --fill-color: #1967D2;\n",
              "      --hover-bg-color: #E2EBFA;\n",
              "      --hover-fill-color: #174EA6;\n",
              "      --disabled-fill-color: #AAA;\n",
              "      --disabled-bg-color: #DDD;\n",
              "  }\n",
              "\n",
              "  [theme=dark] .colab-df-quickchart {\n",
              "      --bg-color: #3B4455;\n",
              "      --fill-color: #D2E3FC;\n",
              "      --hover-bg-color: #434B5C;\n",
              "      --hover-fill-color: #FFFFFF;\n",
              "      --disabled-bg-color: #3B4455;\n",
              "      --disabled-fill-color: #666;\n",
              "  }\n",
              "\n",
              "  .colab-df-quickchart {\n",
              "    background-color: var(--bg-color);\n",
              "    border: none;\n",
              "    border-radius: 50%;\n",
              "    cursor: pointer;\n",
              "    display: none;\n",
              "    fill: var(--fill-color);\n",
              "    height: 32px;\n",
              "    padding: 0;\n",
              "    width: 32px;\n",
              "  }\n",
              "\n",
              "  .colab-df-quickchart:hover {\n",
              "    background-color: var(--hover-bg-color);\n",
              "    box-shadow: 0 1px 2px rgba(60, 64, 67, 0.3), 0 1px 3px 1px rgba(60, 64, 67, 0.15);\n",
              "    fill: var(--button-hover-fill-color);\n",
              "  }\n",
              "\n",
              "  .colab-df-quickchart-complete:disabled,\n",
              "  .colab-df-quickchart-complete:disabled:hover {\n",
              "    background-color: var(--disabled-bg-color);\n",
              "    fill: var(--disabled-fill-color);\n",
              "    box-shadow: none;\n",
              "  }\n",
              "\n",
              "  .colab-df-spinner {\n",
              "    border: 2px solid var(--fill-color);\n",
              "    border-color: transparent;\n",
              "    border-bottom-color: var(--fill-color);\n",
              "    animation:\n",
              "      spin 1s steps(1) infinite;\n",
              "  }\n",
              "\n",
              "  @keyframes spin {\n",
              "    0% {\n",
              "      border-color: transparent;\n",
              "      border-bottom-color: var(--fill-color);\n",
              "      border-left-color: var(--fill-color);\n",
              "    }\n",
              "    20% {\n",
              "      border-color: transparent;\n",
              "      border-left-color: var(--fill-color);\n",
              "      border-top-color: var(--fill-color);\n",
              "    }\n",
              "    30% {\n",
              "      border-color: transparent;\n",
              "      border-left-color: var(--fill-color);\n",
              "      border-top-color: var(--fill-color);\n",
              "      border-right-color: var(--fill-color);\n",
              "    }\n",
              "    40% {\n",
              "      border-color: transparent;\n",
              "      border-right-color: var(--fill-color);\n",
              "      border-top-color: var(--fill-color);\n",
              "    }\n",
              "    60% {\n",
              "      border-color: transparent;\n",
              "      border-right-color: var(--fill-color);\n",
              "    }\n",
              "    80% {\n",
              "      border-color: transparent;\n",
              "      border-right-color: var(--fill-color);\n",
              "      border-bottom-color: var(--fill-color);\n",
              "    }\n",
              "    90% {\n",
              "      border-color: transparent;\n",
              "      border-bottom-color: var(--fill-color);\n",
              "    }\n",
              "  }\n",
              "</style>\n",
              "\n",
              "  <script>\n",
              "    async function quickchart(key) {\n",
              "      const quickchartButtonEl =\n",
              "        document.querySelector('#' + key + ' button');\n",
              "      quickchartButtonEl.disabled = true;  // To prevent multiple clicks.\n",
              "      quickchartButtonEl.classList.add('colab-df-spinner');\n",
              "      try {\n",
              "        const charts = await google.colab.kernel.invokeFunction(\n",
              "            'suggestCharts', [key], {});\n",
              "      } catch (error) {\n",
              "        console.error('Error during call to suggestCharts:', error);\n",
              "      }\n",
              "      quickchartButtonEl.classList.remove('colab-df-spinner');\n",
              "      quickchartButtonEl.classList.add('colab-df-quickchart-complete');\n",
              "    }\n",
              "    (() => {\n",
              "      let quickchartButtonEl =\n",
              "        document.querySelector('#df-6b5a7e17-20da-4329-8cce-6a37f662e755 button');\n",
              "      quickchartButtonEl.style.display =\n",
              "        google.colab.kernel.accessAllowed ? 'block' : 'none';\n",
              "    })();\n",
              "  </script>\n",
              "</div>\n",
              "    </div>\n",
              "  </div>\n"
            ]
          },
          "metadata": {},
          "execution_count": 33
        }
      ]
    },
    {
      "cell_type": "markdown",
      "source": [
        "An analysis of the above models based on the mean accuracy and standard deviation:\n",
        "\n",
        "---\n",
        "\n",
        "LinearSVC (Support Vector Classifier):\n",
        "\n",
        "* Mean Accuracy: 0.8966\n",
        "* Standard Deviation: 0.0041\n",
        "* LinearSVC has the highest mean accuracy and relatively low standard deviation, indicating that it consistently performs well across different cross-validation folds. It's a strong candidate for accuracy-focused tasks.\n",
        "\n",
        "Logistic Regression:\n",
        "\n",
        "* Mean Accuracy: 0.8939\n",
        "* Standard Deviation: 0.0044\n",
        "* Logistic Regression also performs very well with high mean accuracy and reasonable consistency. It's a good choice for text classification and offers good interpretability.\n",
        "\n",
        "Multinomial Naive Bayes:\n",
        "\n",
        "* Mean Accuracy: 0.8564\n",
        "* Standard Deviation: 0.0040\n",
        "* Multinomial Naive Bayes is a simple and interpretable model with decent\n",
        " accuracy. It might be a good choice if you prioritize interpretability over slightly higher accuracy.\n",
        "\n",
        "K-Nearest Neighbors (KNN):\n",
        "\n",
        "* Mean Accuracy: 0.8540\n",
        "* Standard Deviation: 0.0056\n",
        "* KNN performs reasonably well but has a slightly higher standard deviation, indicating more variability in performance. It's worth considering if you're willing to explore a different type of model.\n",
        "\n",
        "Bagging Classifier:\n",
        "\n",
        "* Mean Accuracy: 0.8641\n",
        "* Standard Deviation: 0.0024\n",
        "* Bagging Classifier offers good accuracy with low standard deviation. It's an ensemble method that combines multiple base models, which often leads to robust performance.\n",
        "\n",
        "AdaBoost Classifier:\n",
        "\n",
        "* Mean Accuracy: 0.8316\n",
        "* Standard Deviation: 0.0071\n",
        "* AdaBoost has a lower mean accuracy among the listed models and a higher standard deviation. It might not be the first choice for this task.\n",
        "\n",
        "Random Forest Classifier:\n",
        "\n",
        "* Mean Accuracy: 0.7001\n",
        "* Standard Deviation: 0.0008\n",
        "* Random Forest has the lowest mean accuracy, indicating that it's not performing well on this task.\n",
        "\n",
        "\n",
        "---\n",
        "\n",
        "\n",
        "So, we can clearly see that, **LinearSVC** and **Logistic Regression** stand\n",
        "out as strong candidates due to their high mean accuracy and relatively low standard deviation."
      ],
      "metadata": {
        "id": "ee6XRmU1JlMY"
      }
    },
    {
      "cell_type": "code",
      "source": [
        "plt.figure(figsize=(13,8))\n",
        "sns.boxplot(x='model_name', y='accuracy',\n",
        "            data=crossval_df,\n",
        "            color='lightblue',\n",
        "            showmeans=True)\n",
        "plt.title(\"MEAN ACCURACY (crossval = 5)\\n\", size=14);"
      ],
      "metadata": {
        "colab": {
          "base_uri": "https://localhost:8080/",
          "height": 741
        },
        "id": "K9gXWhn2jU1J",
        "outputId": "c8c9d2ed-1a8c-4f7c-c4ad-a5d276e9a290"
      },
      "execution_count": 34,
      "outputs": [
        {
          "output_type": "display_data",
          "data": {
            "text/plain": [
              "<Figure size 1300x800 with 1 Axes>"
            ],
            "image/png": "[encoded data removed]"
          },
          "metadata": {}
        }
      ]
    },
    {
      "cell_type": "markdown",
      "source": [
        "##5. Model Evaluation"
      ],
      "metadata": {
        "id": "HbFeSbWwJ8lz"
      }
    },
    {
      "cell_type": "markdown",
      "source": [
        "*** To evaluate the model, I defined \"clean_dataset()\" some helper-functions in the \"[Utility functions](#scrollTo=GiiIbK0PmYRn)\"(Click to go to the section/functions) section of the note-book.\n",
        "\n",
        "\n",
        "---\n",
        "\n"
      ],
      "metadata": {
        "id": "fLh6fwJYuiDB"
      }
    },
    {
      "cell_type": "markdown",
      "source": [
        "\n",
        "\n",
        "> **clean_dataset()**\n",
        "\n",
        "\n",
        "\n",
        "The function clean_dataset() performs the following steps to clean and preprocess a dataset:\n",
        "\n",
        "* Removes rows with missing 'Consumer complaint narrative'.\n",
        "* Renames columns to 'Product' and 'Complaint'.\n",
        "* Optionally samples the dataset if sample_size is provided.\n",
        "* Maps similar product categories to consolidated categories.\n",
        "* Generates a category mapping (category names to category IDs)\n",
        "\n",
        "> **evaluate_prediction()**\n",
        "\n",
        "The function evaluate_prediction() evaluates the performance of a regression model using various metrics by taking the following input parameters:\n",
        "\n",
        "* predicted_values: A NumPy array containing the predicted values from the model.\n",
        "* actual_values: A NumPy array containing the actual target values.\n",
        "\n",
        "The function returns a dictionary containing the following evaluation metrics:\n",
        "\n",
        "* Accuracy: The percentage of predictions that are correct.\n",
        "* Mean Squared Error (MSE): The average squared difference between the predicted and actual values.\n",
        "* Root Mean Squared Error (RMSE): The square root of the MSE.\n",
        "* Mean Absolute Error (MAE): The average absolute difference between the predicted and actual values.\n",
        "* R-squared (R2) Score: A measure of how well the model explains the variation in the data.\n",
        "* Explained Variance Score: A measure of how well the model predicts the actual values."
      ],
      "metadata": {
        "id": "PofZ958mFY5V"
      }
    },
    {
      "cell_type": "code",
      "source": [
        "df = pd.read_csv('/content/drive/MyDrive/Colab Notebooks/dataset/complaints/complaints.csv')\n",
        "df.shape"
      ],
      "metadata": {
        "colab": {
          "base_uri": "https://localhost:8080/"
        },
        "id": "RXYXwczlVutx",
        "outputId": "65bc09a8-681b-4f08-dd76-22dcaffc43fc"
      },
      "execution_count": 7,
      "outputs": [
        {
          "output_type": "stream",
          "name": "stderr",
          "text": [
            "<ipython-input-7-d9659a6da6b6>:1: DtypeWarning: Columns (16) have mixed types. Specify dtype option on import or set low_memory=False.\n",
            "  df = pd.read_csv('/content/drive/MyDrive/Colab Notebooks/dataset/complaints/complaints.csv')\n"
          ]
        },
        {
          "output_type": "execute_result",
          "data": {
            "text/plain": [
              "(4091495, 18)"
            ]
          },
          "metadata": {},
          "execution_count": 7
        }
      ]
    },
    {
      "cell_type": "markdown",
      "source": [
        "For final model traning, I am taking 10000 samples"
      ],
      "metadata": {
        "id": "mKcaVPv_RGT3"
      }
    },
    {
      "cell_type": "code",
      "source": [
        "categories_to_keep = ['Credit reporting, repair, or other', 'Debt collection', 'Consumer Loan', 'Mortgage']\n",
        "sample_size = 10000\n",
        "df, category_map = clean_dataset(df, categories_to_keep = categories_to_keep, sample_size = sample_size)"
      ],
      "metadata": {
        "colab": {
          "base_uri": "https://localhost:8080/"
        },
        "id": "bZS5rwG-KGur",
        "outputId": "ecc81800-7956-4c4f-a2b2-e062adcbcbc3"
      },
      "execution_count": 8,
      "outputs": [
        {
          "output_type": "stream",
          "name": "stdout",
          "text": [
            "Cleaned dataset shape: (7580, 3)\n"
          ]
        }
      ]
    },
    {
      "cell_type": "code",
      "source": [
        "category_map"
      ],
      "metadata": {
        "colab": {
          "base_uri": "https://localhost:8080/"
        },
        "id": "KAxu076fXNYH",
        "outputId": "329e60e9-261a-48c9-9131-7c1903be4a00"
      },
      "execution_count": 9,
      "outputs": [
        {
          "output_type": "execute_result",
          "data": {
            "text/plain": [
              "{'Credit reporting, repair, or other': 0,\n",
              " 'Debt collection': 1,\n",
              " 'Consumer Loan': 2,\n",
              " 'Mortgage': 3}"
            ]
          },
          "metadata": {},
          "execution_count": 9
        }
      ]
    },
    {
      "cell_type": "code",
      "source": [
        "df.head()"
      ],
      "metadata": {
        "colab": {
          "base_uri": "https://localhost:8080/",
          "height": 206
        },
        "id": "eQmDjSEYe7Oc",
        "outputId": "f31c588d-8989-4183-d7a2-ffbc00dcaab7"
      },
      "execution_count": 10,
      "outputs": [
        {
          "output_type": "execute_result",
          "data": {
            "text/plain": [
              "                                    Product  \\\n",
              "3285291  Credit reporting, repair, or other   \n",
              "661888   Credit reporting, repair, or other   \n",
              "2379215  Credit reporting, repair, or other   \n",
              "154588   Credit reporting, repair, or other   \n",
              "992576   Credit reporting, repair, or other   \n",
              "\n",
              "                                                 Complaint  encoded_label  \n",
              "3285291  I have disputed the errors on my credit report...              0  \n",
              "661888   My house was broken into several years ago and...              0  \n",
              "2379215  In accordance with the fair credit reporting a...              0  \n",
              "154588   I sent a letter to TransUnion regarding a publ...              0  \n",
              "992576   My credit reports are inaccurate. These inaccu...              0  "
            ],
            "text/html": [
              "\n",
              "  <div id=\"df-f791628e-e36a-43a2-a504-2f66bbad843d\" class=\"colab-df-container\">\n",
              "    <div>\n",
              "<style scoped>\n",
              "    .dataframe tbody tr th:only-of-type {\n",
              "        vertical-align: middle;\n",
              "    }\n",
              "\n",
              "    .dataframe tbody tr th {\n",
              "        vertical-align: top;\n",
              "    }\n",
              "\n",
              "    .dataframe thead th {\n",
              "        text-align: right;\n",
              "    }\n",
              "</style>\n",
              "<table border=\"1\" class=\"dataframe\">\n",
              "  <thead>\n",
              "    <tr style=\"text-align: right;\">\n",
              "      <th></th>\n",
              "      <th>Product</th>\n",
              "      <th>Complaint</th>\n",
              "      <th>encoded_label</th>\n",
              "    </tr>\n",
              "  </thead>\n",
              "  <tbody>\n",
              "    <tr>\n",
              "      <th>3285291</th>\n",
              "      <td>Credit reporting, repair, or other</td>\n",
              "      <td>I have disputed the errors on my credit report...</td>\n",
              "      <td>0</td>\n",
              "    </tr>\n",
              "    <tr>\n",
              "      <th>661888</th>\n",
              "      <td>Credit reporting, repair, or other</td>\n",
              "      <td>My house was broken into several years ago and...</td>\n",
              "      <td>0</td>\n",
              "    </tr>\n",
              "    <tr>\n",
              "      <th>2379215</th>\n",
              "      <td>Credit reporting, repair, or other</td>\n",
              "      <td>In accordance with the fair credit reporting a...</td>\n",
              "      <td>0</td>\n",
              "    </tr>\n",
              "    <tr>\n",
              "      <th>154588</th>\n",
              "      <td>Credit reporting, repair, or other</td>\n",
              "      <td>I sent a letter to TransUnion regarding a publ...</td>\n",
              "      <td>0</td>\n",
              "    </tr>\n",
              "    <tr>\n",
              "      <th>992576</th>\n",
              "      <td>Credit reporting, repair, or other</td>\n",
              "      <td>My credit reports are inaccurate. These inaccu...</td>\n",
              "      <td>0</td>\n",
              "    </tr>\n",
              "  </tbody>\n",
              "</table>\n",
              "</div>\n",
              "    <div class=\"colab-df-buttons\">\n",
              "\n",
              "  <div class=\"colab-df-container\">\n",
              "    <button class=\"colab-df-convert\" onclick=\"convertToInteractive('df-f791628e-e36a-43a2-a504-2f66bbad843d')\"\n",
              "            title=\"Convert this dataframe to an interactive table.\"\n",
              "            style=\"display:none;\">\n",
              "\n",
              "  <svg xmlns=\"http://www.w3.org/2000/svg\" height=\"24px\" viewBox=\"0 -960 960 960\">\n",
              "    <path d=\"M120-120v-720h720v720H120Zm60-500h600v-160H180v160Zm220 220h160v-160H400v160Zm0 220h160v-160H400v160ZM180-400h160v-160H180v160Zm440 0h160v-160H620v160ZM180-180h160v-160H180v160Zm440 0h160v-160H620v160Z\"/>\n",
              "  </svg>\n",
              "    </button>\n",
              "\n",
              "  <style>\n",
              "    .colab-df-container {\n",
              "      display:flex;\n",
              "      gap: 12px;\n",
              "    }\n",
              "\n",
              "    .colab-df-convert {\n",
              "      background-color: #E8F0FE;\n",
              "      border: none;\n",
              "      border-radius: 50%;\n",
              "      cursor: pointer;\n",
              "      display: none;\n",
              "      fill: #1967D2;\n",
              "      height: 32px;\n",
              "      padding: 0 0 0 0;\n",
              "      width: 32px;\n",
              "    }\n",
              "\n",
              "    .colab-df-convert:hover {\n",
              "      background-color: #E2EBFA;\n",
              "      box-shadow: 0px 1px 2px rgba(60, 64, 67, 0.3), 0px 1px 3px 1px rgba(60, 64, 67, 0.15);\n",
              "      fill: #174EA6;\n",
              "    }\n",
              "\n",
              "    .colab-df-buttons div {\n",
              "      margin-bottom: 4px;\n",
              "    }\n",
              "\n",
              "    [theme=dark] .colab-df-convert {\n",
              "      background-color: #3B4455;\n",
              "      fill: #D2E3FC;\n",
              "    }\n",
              "\n",
              "    [theme=dark] .colab-df-convert:hover {\n",
              "      background-color: #434B5C;\n",
              "      box-shadow: 0px 1px 3px 1px rgba(0, 0, 0, 0.15);\n",
              "      filter: drop-shadow(0px 1px 2px rgba(0, 0, 0, 0.3));\n",
              "      fill: #FFFFFF;\n",
              "    }\n",
              "  </style>\n",
              "\n",
              "    <script>\n",
              "      const buttonEl =\n",
              "        document.querySelector('#df-f791628e-e36a-43a2-a504-2f66bbad843d button.colab-df-convert');\n",
              "      buttonEl.style.display =\n",
              "        google.colab.kernel.accessAllowed ? 'block' : 'none';\n",
              "\n",
              "      async function convertToInteractive(key) {\n",
              "        const element = document.querySelector('#df-f791628e-e36a-43a2-a504-2f66bbad843d');\n",
              "        const dataTable =\n",
              "          await google.colab.kernel.invokeFunction('convertToInteractive',\n",
              "                                                    [key], {});\n",
              "        if (!dataTable) return;\n",
              "\n",
              "        const docLinkHtml = 'Like what you see? Visit the ' +\n",
              "          '<a target=\"_blank\" href=https://colab.research.google.com/notebooks/data_table.ipynb>data table notebook</a>'\n",
              "          + ' to learn more about interactive tables.';\n",
              "        element.innerHTML = '';\n",
              "        dataTable['output_type'] = 'display_data';\n",
              "        await google.colab.output.renderOutput(dataTable, element);\n",
              "        const docLink = document.createElement('div');\n",
              "        docLink.innerHTML = docLinkHtml;\n",
              "        element.appendChild(docLink);\n",
              "      }\n",
              "    </script>\n",
              "  </div>\n",
              "\n",
              "\n",
              "<div id=\"df-bfa31edf-e604-461b-bc8a-9e89707c4a0b\">\n",
              "  <button class=\"colab-df-quickchart\" onclick=\"quickchart('df-bfa31edf-e604-461b-bc8a-9e89707c4a0b')\"\n",
              "            title=\"Suggest charts.\"\n",
              "            style=\"display:none;\">\n",
              "\n",
              "<svg xmlns=\"http://www.w3.org/2000/svg\" height=\"24px\"viewBox=\"0 0 24 24\"\n",
              "     width=\"24px\">\n",
              "    <g>\n",
              "        <path d=\"M19 3H5c-1.1 0-2 .9-2 2v14c0 1.1.9 2 2 2h14c1.1 0 2-.9 2-2V5c0-1.1-.9-2-2-2zM9 17H7v-7h2v7zm4 0h-2V7h2v10zm4 0h-2v-4h2v4z\"/>\n",
              "    </g>\n",
              "</svg>\n",
              "  </button>\n",
              "\n",
              "<style>\n",
              "  .colab-df-quickchart {\n",
              "      --bg-color: #E8F0FE;\n",
              "      --fill-color: #1967D2;\n",
              "      --hover-bg-color: #E2EBFA;\n",
              "      --hover-fill-color: #174EA6;\n",
              "      --disabled-fill-color: #AAA;\n",
              "      --disabled-bg-color: #DDD;\n",
              "  }\n",
              "\n",
              "  [theme=dark] .colab-df-quickchart {\n",
              "      --bg-color: #3B4455;\n",
              "      --fill-color: #D2E3FC;\n",
              "      --hover-bg-color: #434B5C;\n",
              "      --hover-fill-color: #FFFFFF;\n",
              "      --disabled-bg-color: #3B4455;\n",
              "      --disabled-fill-color: #666;\n",
              "  }\n",
              "\n",
              "  .colab-df-quickchart {\n",
              "    background-color: var(--bg-color);\n",
              "    border: none;\n",
              "    border-radius: 50%;\n",
              "    cursor: pointer;\n",
              "    display: none;\n",
              "    fill: var(--fill-color);\n",
              "    height: 32px;\n",
              "    padding: 0;\n",
              "    width: 32px;\n",
              "  }\n",
              "\n",
              "  .colab-df-quickchart:hover {\n",
              "    background-color: var(--hover-bg-color);\n",
              "    box-shadow: 0 1px 2px rgba(60, 64, 67, 0.3), 0 1px 3px 1px rgba(60, 64, 67, 0.15);\n",
              "    fill: var(--button-hover-fill-color);\n",
              "  }\n",
              "\n",
              "  .colab-df-quickchart-complete:disabled,\n",
              "  .colab-df-quickchart-complete:disabled:hover {\n",
              "    background-color: var(--disabled-bg-color);\n",
              "    fill: var(--disabled-fill-color);\n",
              "    box-shadow: none;\n",
              "  }\n",
              "\n",
              "  .colab-df-spinner {\n",
              "    border: 2px solid var(--fill-color);\n",
              "    border-color: transparent;\n",
              "    border-bottom-color: var(--fill-color);\n",
              "    animation:\n",
              "      spin 1s steps(1) infinite;\n",
              "  }\n",
              "\n",
              "  @keyframes spin {\n",
              "    0% {\n",
              "      border-color: transparent;\n",
              "      border-bottom-color: var(--fill-color);\n",
              "      border-left-color: var(--fill-color);\n",
              "    }\n",
              "    20% {\n",
              "      border-color: transparent;\n",
              "      border-left-color: var(--fill-color);\n",
              "      border-top-color: var(--fill-color);\n",
              "    }\n",
              "    30% {\n",
              "      border-color: transparent;\n",
              "      border-left-color: var(--fill-color);\n",
              "      border-top-color: var(--fill-color);\n",
              "      border-right-color: var(--fill-color);\n",
              "    }\n",
              "    40% {\n",
              "      border-color: transparent;\n",
              "      border-right-color: var(--fill-color);\n",
              "      border-top-color: var(--fill-color);\n",
              "    }\n",
              "    60% {\n",
              "      border-color: transparent;\n",
              "      border-right-color: var(--fill-color);\n",
              "    }\n",
              "    80% {\n",
              "      border-color: transparent;\n",
              "      border-right-color: var(--fill-color);\n",
              "      border-bottom-color: var(--fill-color);\n",
              "    }\n",
              "    90% {\n",
              "      border-color: transparent;\n",
              "      border-bottom-color: var(--fill-color);\n",
              "    }\n",
              "  }\n",
              "</style>\n",
              "\n",
              "  <script>\n",
              "    async function quickchart(key) {\n",
              "      const quickchartButtonEl =\n",
              "        document.querySelector('#' + key + ' button');\n",
              "      quickchartButtonEl.disabled = true;  // To prevent multiple clicks.\n",
              "      quickchartButtonEl.classList.add('colab-df-spinner');\n",
              "      try {\n",
              "        const charts = await google.colab.kernel.invokeFunction(\n",
              "            'suggestCharts', [key], {});\n",
              "      } catch (error) {\n",
              "        console.error('Error during call to suggestCharts:', error);\n",
              "      }\n",
              "      quickchartButtonEl.classList.remove('colab-df-spinner');\n",
              "      quickchartButtonEl.classList.add('colab-df-quickchart-complete');\n",
              "    }\n",
              "    (() => {\n",
              "      let quickchartButtonEl =\n",
              "        document.querySelector('#df-bfa31edf-e604-461b-bc8a-9e89707c4a0b button');\n",
              "      quickchartButtonEl.style.display =\n",
              "        google.colab.kernel.accessAllowed ? 'block' : 'none';\n",
              "    })();\n",
              "  </script>\n",
              "</div>\n",
              "    </div>\n",
              "  </div>\n"
            ]
          },
          "metadata": {},
          "execution_count": 10
        }
      ]
    },
    {
      "cell_type": "markdown",
      "source": [
        "\n",
        "\n",
        "---\n",
        "\n",
        "\n",
        "As for this assignment I have decided to choose ***LinearSVC*** (Linear Support Vector Classifier) as my final model for several compelling reasons:\n",
        "\n",
        "1. **High Mean Accuracy**: LinearSVC exhibited the highest mean accuracy among all the models we tested, scoring at approximately 89.67%. This implies that it consistently performs well in classifying text data into multiple categories.\n",
        "\n",
        "2. **Low Standard Deviation**: LinearSVC also showcased a relatively low standard deviation of around 0.0041. This indicates that its performance is consistent across different cross-validation folds, making it a stable and reliable choice for our task.\n",
        "\n",
        "3. **Robustness**: LinearSVC is known for its robustness and effectiveness in handling high-dimensional data, which is often the case with text data. It can effectively separate text data into multiple classes with minimal overfitting.\n",
        "\n",
        "4. **Interpretability**: LinearSVC provides good interpretability. It allows us to understand which features (words or terms) are more important in making classification decisions. This interpretability can be valuable for understanding the factors driving classification outcomes.\n",
        "\n",
        "5. Speed and Scalability: LinearSVC is computationally efficient and can handle large datasets, making it suitable for our task even if we decide to scale up our dataset in the future.\n",
        "\n",
        "In summary, LinearSVC not only showcased exceptional performance but also provides transparency and dependability, both of which are pivotal aspects in text classification."
      ],
      "metadata": {
        "id": "WA-bTdMw0vNz"
      }
    },
    {
      "cell_type": "code",
      "source": [
        "tfidf_vectorizer = TfidfVectorizer(sublinear_tf=True, min_df=5,\n",
        "                        ngram_range=(1, 2),\n",
        "                        stop_words='english')\n",
        "\n",
        "features, labels = pre_process_texts(df, tfidf_vectorizer)"
      ],
      "metadata": {
        "id": "cc5zvlHCO1m3"
      },
      "execution_count": 11,
      "outputs": []
    },
    {
      "cell_type": "code",
      "source": [
        "features.shape"
      ],
      "metadata": {
        "colab": {
          "base_uri": "https://localhost:8080/"
        },
        "id": "fq4aj_MAkz81",
        "outputId": "9a027121-ff79-4872-812f-88216bcbcfa6"
      },
      "execution_count": 12,
      "outputs": [
        {
          "output_type": "execute_result",
          "data": {
            "text/plain": [
              "(7580, 17638)"
            ]
          },
          "metadata": {},
          "execution_count": 12
        }
      ]
    },
    {
      "cell_type": "code",
      "source": [
        "X = features\n",
        "y = labels\n",
        "X_train, X_test, y_train, y_test = train_test_split(X, y,\n",
        "                                                    test_size=0.25,\n",
        "                                                    random_state = 0)"
      ],
      "metadata": {
        "id": "VnZpLl5u4xXy"
      },
      "execution_count": 13,
      "outputs": []
    },
    {
      "cell_type": "markdown",
      "source": [
        "Here I used **GridSearchCV** to tune the hyperparameters of a LinearSVC model.\n",
        "> GridSearchCV is a powerful tool that can be used to find the best combination of hyperparameters for a variety of machine learning models."
      ],
      "metadata": {
        "id": "sTZF3iwFSsZV"
      }
    },
    {
      "cell_type": "code",
      "source": [
        "# Define the parameter grid for tuning\n",
        "param_grid = {\n",
        "    'C': [0.001, 0.01, 0.1, 1, 10],  # Regularization parameter\n",
        "    'penalty': ['l2'],  # Regularization penalty type\n",
        "    'max_iter': [1000, 2000, 3000]  # Maximum number of iterations\n",
        "}\n",
        "\n",
        "svc = LinearSVC()\n",
        "\n",
        "# Create GridSearchCV with 5-fold cross-validation\n",
        "grid_search = GridSearchCV(estimator=svc, param_grid=param_grid, cv=5, scoring='accuracy', verbose=1, n_jobs=-1)\n",
        "\n",
        "grid_search.fit(X_train, y_train)\n",
        "\n",
        "print(\"Best Parameters: \", grid_search.best_params_)\n",
        "print(\"Best Accuracy: \", grid_search.best_score_)\n",
        "\n",
        "# Get the best model\n",
        "best_svc = grid_search.best_estimator_"
      ],
      "metadata": {
        "colab": {
          "base_uri": "https://localhost:8080/"
        },
        "id": "eoMMtud43bWk",
        "outputId": "423c807c-e569-4011-849b-b8ae76c71d9c"
      },
      "execution_count": 14,
      "outputs": [
        {
          "output_type": "stream",
          "name": "stdout",
          "text": [
            "Fitting 5 folds for each of 15 candidates, totalling 75 fits\n",
            "Best Parameters:  {'C': 1, 'max_iter': 1000, 'penalty': 'l2'}\n",
            "Best Accuracy:  0.8948109058927001\n"
          ]
        }
      ]
    },
    {
      "cell_type": "code",
      "source": [
        "y_pred = best_svc.predict(X_test)"
      ],
      "metadata": {
        "id": "dcpSQHrc3kYZ"
      },
      "execution_count": 15,
      "outputs": []
    },
    {
      "cell_type": "code",
      "source": [
        "eval_matric = evaluate_prediction(predicted_values = y_pred, actual_values = y_test)"
      ],
      "metadata": {
        "id": "WpAWBy2gEBBt"
      },
      "execution_count": 16,
      "outputs": []
    },
    {
      "cell_type": "code",
      "source": [
        "for mat, val in eval_matric.items():\n",
        "  print(f\"{mat}   :  {val}\")"
      ],
      "metadata": {
        "colab": {
          "base_uri": "https://localhost:8080/"
        },
        "id": "KLn6b810EpXz",
        "outputId": "4ea36ed2-4b69-40ea-eca9-fdd12cc6fb9b"
      },
      "execution_count": 17,
      "outputs": [
        {
          "output_type": "stream",
          "name": "stdout",
          "text": [
            "Accuracy   :  0.9044854881266491\n",
            "MSE   :  0.21688654353562006\n",
            "RMSE   :  0.4657107938792272\n",
            "MAE   :  0.12823218997361477\n",
            "R2   :  0.7440431355073291\n",
            "Explained Variance   :  0.7447086243409196\n"
          ]
        }
      ]
    },
    {
      "cell_type": "markdown",
      "source": [
        "> About the above result\n",
        "\n",
        "1. Accuracy: The accuracy of approximately 90.45% indicates that the model correctly predicted the category for nearly 90.45% of the test samples. It's a good measure of overall correctness.\n",
        "\n",
        "2. MSE (Mean Squared Error): With an MSE of approximately 0.217, this metric quantifies the average squared difference between the predicted and actual values. Lower values are better, indicating that the model's predictions are closer to the actual values.\n",
        "\n",
        "3. RMSE (Root Mean Squared Error): The RMSE of approximately 0.466 is the square root of the MSE and represents the average prediction error. It's useful for understanding the magnitude of errors, with lower values indicating better predictive accuracy.\n",
        "\n",
        "4. MAE (Mean Absolute Error): The MAE of approximately 0.128 suggests that, on average, the model's predictions differ from the actual values by around 12.8%. It's another measure of prediction accuracy.\n",
        "\n",
        "5. R2 (R-squared) Score: The R2 score of approximately 0.744 indicates that about 74.4% of the variance in the target variable is explained by the model. This is a good measure of how well the model fits the data, with higher values indicating a better fit.\n",
        "\n",
        "6. Explained Variance: The explained variance of approximately 0.745 reflects the proportion of variance in the target variable that the model can explain. It's similar to the R2 score and suggests that the model captures a significant portion of the variance."
      ],
      "metadata": {
        "id": "P8yfvGqcK8Yg"
      }
    },
    {
      "cell_type": "code",
      "source": [
        "print(metrics.classification_report(y_test, y_pred, target_names= categories_to_keep, zero_division=0))"
      ],
      "metadata": {
        "colab": {
          "base_uri": "https://localhost:8080/"
        },
        "id": "wtJYSdiJpjby",
        "outputId": "7d374daf-35fd-45f8-ae1f-13d7edb24306"
      },
      "execution_count": 18,
      "outputs": [
        {
          "output_type": "stream",
          "name": "stdout",
          "text": [
            "                                    precision    recall  f1-score   support\n",
            "\n",
            "Credit reporting, repair, or other       0.93      0.96      0.94      1327\n",
            "                   Debt collection       0.82      0.75      0.78       366\n",
            "                     Consumer Loan       1.00      0.10      0.18        20\n",
            "                          Mortgage       0.88      0.92      0.90       182\n",
            "\n",
            "                          accuracy                           0.90      1895\n",
            "                         macro avg       0.91      0.68      0.70      1895\n",
            "                      weighted avg       0.90      0.90      0.90      1895\n",
            "\n"
          ]
        }
      ]
    },
    {
      "cell_type": "markdown",
      "source": [
        "> **Overall Model Performance:**\n",
        "\n",
        "\n",
        "Accuracy: 90%\n",
        "\n",
        "**Key Takeaways:**\n",
        "\n",
        "The model performed well in predicting \"Credit reporting, repair, or other\" and \"Mortgage\" categories, with high precision and recall.\n",
        "\"Debt collection\" category, while having a decent F1-score, showed slightly lower recall.\n",
        "Unfortunately, the model struggled to predict the \"Consumer Loan\" category, possibly due to **limited data in the sample**\n",
        "\n",
        "**Conclusion:**\n",
        "\n",
        "The model shows promise in classifying text data accurately, particularly for certain categories. Further refinement and potentially more data for the \"Consumer Loan\" category may enhance overall performance."
      ],
      "metadata": {
        "id": "7TM_I_18AZfB"
      }
    },
    {
      "cell_type": "code",
      "source": [
        "conf_mat = confusion_matrix(y_test, y_pred)\n",
        "fig, ax = plt.subplots(figsize=(8,8))\n",
        "sns.heatmap(conf_mat, annot=True, fmt='d',\n",
        "            xticklabels=categories_to_keep,\n",
        "            yticklabels=categories_to_keep)\n",
        "plt.ylabel('Actual')\n",
        "plt.xlabel('Predicted')\n",
        "plt.title(\"CONFUSION MATRIX for LinearSVC\\n\", size=16);"
      ],
      "metadata": {
        "colab": {
          "base_uri": "https://localhost:8080/",
          "height": 954
        },
        "id": "207gxMhJp27K",
        "outputId": "d5babe34-a90e-45ef-8a48-5ca6b8a4ddbf"
      },
      "execution_count": 19,
      "outputs": [
        {
          "output_type": "display_data",
          "data": {
            "text/plain": [
              "<Figure size 800x800 with 2 Axes>"
            ],
            "image/png": "[encoded data removed]"
          },
          "metadata": {}
        }
      ]
    },
    {
      "cell_type": "markdown",
      "source": [
        "> A **Confusion Matrix** is a structured chart where the rows correspond to the actual categories, while the columns signify the predicted categories."
      ],
      "metadata": {
        "id": "MVk6Gl4VK_08"
      }
    },
    {
      "cell_type": "markdown",
      "source": [
        "So, now we can save the model, vectorizer and the label map for future uses.\n",
        "In this case saved it as a python dictionary containing:\n",
        "\n",
        "custom_model = {\n",
        "    \"model\" : best_svc,\n",
        "    \"vectorizer\" : fitted_vectorizer,\n",
        "    \"label_map\" : category_map\n",
        "    }"
      ],
      "metadata": {
        "id": "1YDoSxBQNXDL"
      }
    },
    {
      "cell_type": "code",
      "source": [
        "tfidf_vectorizer = TfidfVectorizer(sublinear_tf=True, min_df=5,\n",
        "                        ngram_range=(1, 2),\n",
        "                        stop_words='english')\n",
        "df_copy = df.copy()\n",
        "df_copy['Complaint'] = df_copy['Complaint'].apply(lambda x: clean_text(x, lemmatize = True))\n",
        "fitted_vectorizer = tfidf_vectorizer.fit(df_copy.Complaint)\n",
        "\n",
        "custom_model = {\n",
        "    \"model\" : best_svc,\n",
        "    \"vectorizer\" : fitted_vectorizer,\n",
        "    \"label_map\" : category_map\n",
        "    }\n",
        "\n",
        "filename = '/content/drive/MyDrive/Colab Notebooks/dataset/f_Consumer_complaint_classifier_linerSVC.sav'\n",
        "joblib.dump(custom_model, filename)"
      ],
      "metadata": {
        "colab": {
          "base_uri": "https://localhost:8080/"
        },
        "id": "F0Ch_7sDINT3",
        "outputId": "b6d64410-5251-4061-ec92-b1ed49531ca9"
      },
      "execution_count": 45,
      "outputs": [
        {
          "output_type": "execute_result",
          "data": {
            "text/plain": [
              "['/content/drive/MyDrive/Colab Notebooks/dataset/f_Consumer_complaint_classifier_linerSVC.sav']"
            ]
          },
          "metadata": {},
          "execution_count": 45
        }
      ]
    },
    {
      "cell_type": "code",
      "source": [
        "fitted_vectorizer.shape"
      ],
      "metadata": {
        "colab": {
          "base_uri": "https://localhost:8080/"
        },
        "id": "IgUVsmCnxfwP",
        "outputId": "941ddea9-af92-475a-c6ca-f9b1b75c31cb"
      },
      "execution_count": 44,
      "outputs": [
        {
          "output_type": "execute_result",
          "data": {
            "text/plain": [
              "(7580, 17638)"
            ]
          },
          "metadata": {},
          "execution_count": 44
        }
      ]
    },
    {
      "cell_type": "markdown",
      "source": [
        "##6. Prediction"
      ],
      "metadata": {
        "id": "r5omPcrCKb54"
      }
    },
    {
      "cell_type": "markdown",
      "source": [
        "*** To predict the category of a Complaint text, I defined \"predict_categories()\", helper-function in the \"[Utility functions](#scrollTo=-WciLQXi7g-5)\"(Click to go to the section/function) section of the note-book.\n",
        "\n",
        "\n",
        "---\n"
      ],
      "metadata": {
        "id": "Q_fNYTclC1d9"
      }
    },
    {
      "cell_type": "markdown",
      "source": [
        "\n",
        "> **predict_categories()**\n",
        "\n",
        "The function predict_categories() predicts categories for complaint text data using a trained model. It takes the following input parameters:\n",
        "\n",
        "* text: The input text to be predicted.\n",
        "* model: The trained classification model.\n",
        "* vectorizer: The vectorizer used for text preprocessing.\n",
        "* label_encoder: The label encoder used for category mapping.\n",
        "\n",
        "The function returns a string containing the predicted category.\n",
        "\n"
      ],
      "metadata": {
        "id": "4IVLYqeKL0Ml"
      }
    },
    {
      "cell_type": "markdown",
      "source": [
        "\n",
        "\n",
        "---\n",
        "\n",
        "\n",
        "This is the final Part!!!\n",
        "\n",
        "The steps I took\n",
        "1. Loaded the saved model\n",
        "2. Made a random sample fom the dataset.\n",
        "3. Took a random Complaint Test from the sample.\n",
        "4. Predicted The Category of that random Complaint Text\n",
        "5. Compaired with the Actual Category"
      ],
      "metadata": {
        "id": "CAMzA4uDLYAs"
      }
    },
    {
      "cell_type": "code",
      "source": [
        "filename = \"/content/drive/MyDrive/Colab Notebooks/dataset/f_Consumer_complaint_classifier_linerSVC.sav\"\n",
        "loaded_model = joblib.load(filename)"
      ],
      "metadata": {
        "id": "62tzeMx0J_wA"
      },
      "execution_count": 46,
      "outputs": []
    },
    {
      "cell_type": "code",
      "source": [
        "loaded_model"
      ],
      "metadata": {
        "colab": {
          "base_uri": "https://localhost:8080/"
        },
        "id": "PmlwwtN53ePx",
        "outputId": "db1cdbdc-9c0c-4c63-9199-32aecc6f569d"
      },
      "execution_count": 47,
      "outputs": [
        {
          "output_type": "execute_result",
          "data": {
            "text/plain": [
              "{'model': LinearSVC(C=1),\n",
              " 'vectorizer': TfidfVectorizer(min_df=5, ngram_range=(1, 2), stop_words='english',\n",
              "                 sublinear_tf=True),\n",
              " 'label_map': {'Credit reporting, repair, or other': 0,\n",
              "  'Debt collection': 1,\n",
              "  'Consumer Loan': 2,\n",
              "  'Mortgage': 3}}"
            ]
          },
          "metadata": {},
          "execution_count": 47
        }
      ]
    },
    {
      "cell_type": "code",
      "source": [
        "df = pd.read_csv('/content/drive/MyDrive/Colab Notebooks/dataset/complaints/complaints.csv')\n",
        "df.shape"
      ],
      "metadata": {
        "colab": {
          "base_uri": "https://localhost:8080/"
        },
        "id": "j_82OfRoHGH9",
        "outputId": "9170a592-8711-4b18-d4fa-4d0ab8ef8d0b"
      },
      "execution_count": 35,
      "outputs": [
        {
          "output_type": "stream",
          "name": "stderr",
          "text": [
            "<ipython-input-35-d9659a6da6b6>:1: DtypeWarning: Columns (16) have mixed types. Specify dtype option on import or set low_memory=False.\n",
            "  df = pd.read_csv('/content/drive/MyDrive/Colab Notebooks/dataset/complaints/complaints.csv')\n"
          ]
        },
        {
          "output_type": "execute_result",
          "data": {
            "text/plain": [
              "(4091495, 18)"
            ]
          },
          "metadata": {},
          "execution_count": 35
        }
      ]
    },
    {
      "cell_type": "markdown",
      "source": [
        "> Here I am taking A random sample from the dataset..."
      ],
      "metadata": {
        "id": "4oklZXptTZ9Q"
      }
    },
    {
      "cell_type": "code",
      "source": [
        "categories_to_keep = ['Credit reporting, repair, or other', 'Debt collection', 'Consumer Loan', 'Mortgage']\n",
        "sample_size = 10000\n",
        "df, category_map = clean_dataset(df, categories_to_keep = categories_to_keep, sample_size = sample_size)"
      ],
      "metadata": {
        "colab": {
          "base_uri": "https://localhost:8080/"
        },
        "id": "Q69LlDFavGN-",
        "outputId": "7995e2c5-200a-4b67-86c1-75b0a39a9857"
      },
      "execution_count": 36,
      "outputs": [
        {
          "output_type": "stream",
          "name": "stdout",
          "text": [
            "Cleaned dataset shape: (7580, 3)\n"
          ]
        }
      ]
    },
    {
      "cell_type": "markdown",
      "source": [
        "> I took A random Complaint Text from the Random Sample dataset... which is likely to be a totally unknow text for the Model."
      ],
      "metadata": {
        "id": "hkF_AvTqMUg7"
      }
    },
    {
      "cell_type": "code",
      "source": [
        "text = random.choice(df.Complaint.values)\n",
        "actual_category = list(df[df['Complaint'] == text].Product.values)\n",
        "print(actual_category)\n",
        "print(text)"
      ],
      "metadata": {
        "colab": {
          "base_uri": "https://localhost:8080/"
        },
        "id": "o_3pILDd_CAC",
        "outputId": "bf730eb3-f9bd-4f07-b0bc-f80d87e52666"
      },
      "execution_count": 120,
      "outputs": [
        {
          "output_type": "stream",
          "name": "stdout",
          "text": [
            "['Debt collection']\n",
            "XXXX continues to send debt to different companies and placing derogatory remarks on my credit. This is tarnishing my credit. XXXX failed to comply with FCRA Guidelines. Continues to be non-compliant ; letters sent, no feedback.\n"
          ]
        }
      ]
    },
    {
      "cell_type": "code",
      "source": [
        "vectorizer = loaded_model[\"vectorizer\"]\n",
        "model = loaded_model[\"model\"]\n",
        "category_map = loaded_model[\"label_map\"]\n",
        "\n",
        "label_encoder = CategoryLabelEncoder(category_map)\n"
      ],
      "metadata": {
        "id": "M9gaZBe57-d7"
      },
      "execution_count": 117,
      "outputs": []
    },
    {
      "cell_type": "markdown",
      "source": [
        "> Prediction..."
      ],
      "metadata": {
        "id": "s1y0yPlLTrMp"
      }
    },
    {
      "cell_type": "code",
      "source": [
        "predict_categories(text, model, vectorizer, label_encoder)"
      ],
      "metadata": {
        "colab": {
          "base_uri": "https://localhost:8080/"
        },
        "id": "lvuT1Fpg5G9E",
        "outputId": "bbadcf14-5b25-45c3-b081-1f2388dd3cec"
      },
      "execution_count": 121,
      "outputs": [
        {
          "output_type": "execute_result",
          "data": {
            "text/plain": [
              "['Debt collection']"
            ]
          },
          "metadata": {},
          "execution_count": 121
        }
      ]
    },
    {
      "cell_type": "markdown",
      "source": [
        "> Actual category..."
      ],
      "metadata": {
        "id": "-0mKjWf5TyfE"
      }
    },
    {
      "cell_type": "code",
      "source": [
        "actual_category"
      ],
      "metadata": {
        "colab": {
          "base_uri": "https://localhost:8080/"
        },
        "id": "cPptJLsw0567",
        "outputId": "05943c92-d258-4f7d-8f9c-bf386664e2d7"
      },
      "execution_count": 122,
      "outputs": [
        {
          "output_type": "execute_result",
          "data": {
            "text/plain": [
              "['Debt collection']"
            ]
          },
          "metadata": {},
          "execution_count": 122
        }
      ]
    },
    {
      "cell_type": "markdown",
      "source": [
        "> Above results clearly shows that this model is able to predict accurately even on a small sample of the data."
      ],
      "metadata": {
        "id": "Y7NpSBBHMCwh"
      }
    }
  ]
}